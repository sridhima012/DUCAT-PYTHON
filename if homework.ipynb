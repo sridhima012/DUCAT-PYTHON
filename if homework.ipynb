{
 "cells": [
  {
   "cell_type": "code",
   "execution_count": 1,
   "id": "9e2e743d-bb85-4346-8f5e-6094384eb6c3",
   "metadata": {},
   "outputs": [
    {
     "name": "stdin",
     "output_type": "stream",
     "text": [
      "Enter a number:  40\n"
     ]
    },
    {
     "name": "stdout",
     "output_type": "stream",
     "text": [
      "The number is Positive.\n"
     ]
    }
   ],
   "source": [
    "# 1. Check if a number is Positive\n",
    "\n",
    "num = int(input(\"Enter a number: \"))\n",
    "\n",
    "if num > 0:\n",
    "    print(\"The number is Positive.\")\n",
    "else:\n",
    "    print(\"The number is not Positive.\")\n"
   ]
  },
  {
   "cell_type": "code",
   "execution_count": 2,
   "id": "38b07f78-0dd0-464b-9990-a03585a12477",
   "metadata": {},
   "outputs": [
    {
     "name": "stdin",
     "output_type": "stream",
     "text": [
      "Enter a number:  80\n"
     ]
    },
    {
     "name": "stdout",
     "output_type": "stream",
     "text": [
      "The number is not Negative.\n"
     ]
    }
   ],
   "source": [
    "# 2. Check if a number is Negative\n",
    "\n",
    "num = int(input(\"Enter a number: \"))\n",
    "\n",
    "if num < 0:\n",
    "    print(\"The number is Negative.\")\n",
    "else:\n",
    "    print(\"The number is not Negative.\")\n"
   ]
  },
  {
   "cell_type": "code",
   "execution_count": 4,
   "id": "5c4a5b39-e540-4d82-b0e1-be025e7ec984",
   "metadata": {},
   "outputs": [
    {
     "name": "stdin",
     "output_type": "stream",
     "text": [
      "Enter a number:  50\n"
     ]
    },
    {
     "name": "stdout",
     "output_type": "stream",
     "text": [
      "The number is not Zero.\n"
     ]
    }
   ],
   "source": [
    "# 3. Check if a number is Zero\n",
    "\n",
    "num = int(input(\"Enter a number: \"))\n",
    "\n",
    "if num == 0:\n",
    "    print(\"The number is Zero.\")\n",
    "else:\n",
    "    print(\"The number is not Zero.\")\n"
   ]
  },
  {
   "cell_type": "code",
   "execution_count": 5,
   "id": "f1958ffa-67d5-4289-adf7-a15c1e172f86",
   "metadata": {},
   "outputs": [
    {
     "name": "stdin",
     "output_type": "stream",
     "text": [
      "Enter a number:  80\n"
     ]
    },
    {
     "name": "stdout",
     "output_type": "stream",
     "text": [
      "The number is Even.\n"
     ]
    }
   ],
   "source": [
    "# 4. Check if a number is Even\n",
    "\n",
    "num = int(input(\"Enter a number: \"))\n",
    "\n",
    "if num % 2 == 0:\n",
    "    print(\"The number is Even.\")\n",
    "else:\n",
    "    print(\"The number is not Even.\")\n"
   ]
  },
  {
   "cell_type": "code",
   "execution_count": 7,
   "id": "e1e0dc17-82ab-49de-9312-31ff97f5c2c3",
   "metadata": {},
   "outputs": [
    {
     "name": "stdin",
     "output_type": "stream",
     "text": [
      "Enter a number:  75\n"
     ]
    },
    {
     "name": "stdout",
     "output_type": "stream",
     "text": [
      "The number is Odd.\n"
     ]
    }
   ],
   "source": [
    "# 5. Check if a number is Odd\n",
    "\n",
    "num = int(input(\"Enter a number: \"))\n",
    "\n",
    "if num % 2 != 0:\n",
    "    print(\"The number is Odd.\")\n",
    "else:\n",
    "    print(\"The number is not Odd.\")\n"
   ]
  },
  {
   "cell_type": "code",
   "execution_count": 18,
   "id": "25d9644c-4cad-4717-871e-78e943a5ea75",
   "metadata": {},
   "outputs": [
    {
     "name": "stdin",
     "output_type": "stream",
     "text": [
      "Enter a number:  38\n"
     ]
    },
    {
     "name": "stdout",
     "output_type": "stream",
     "text": [
      "The number is not divisible by 5.\n"
     ]
    }
   ],
   "source": [
    "# 6. Check if a number is divisible by 5\n",
    "\n",
    "num = int(input(\"Enter a number: \"))\n",
    "\n",
    "if num % 5 == 0:\n",
    "    print(\"The number is divisible by 5.\")\n",
    "else:\n",
    "    print(\"The number is not divisible by 5.\")\n"
   ]
  },
  {
   "cell_type": "code",
   "execution_count": 19,
   "id": "6f9f5179-c160-4cc6-9bf6-272c145a163d",
   "metadata": {},
   "outputs": [
    {
     "name": "stdin",
     "output_type": "stream",
     "text": [
      "Enter a number:  90\n"
     ]
    },
    {
     "name": "stdout",
     "output_type": "stream",
     "text": [
      "The number is divisible by 10.\n"
     ]
    }
   ],
   "source": [
    "# 7. Check if a number is divisible by 10\n",
    "\n",
    "num = int(input(\"Enter a number: \"))\n",
    "\n",
    "if num % 10 == 0:\n",
    "    print(\"The number is divisible by 10.\")\n",
    "else:\n",
    "    print(\"The number is not divisible by 10.\")\n"
   ]
  },
  {
   "cell_type": "code",
   "execution_count": 20,
   "id": "fa3c315d-fcf3-45c1-8bcd-82dad6c60ea1",
   "metadata": {},
   "outputs": [
    {
     "name": "stdin",
     "output_type": "stream",
     "text": [
      "Enter your age:  19\n"
     ]
    },
    {
     "name": "stdout",
     "output_type": "stream",
     "text": [
      "You are eligible to vote.\n"
     ]
    }
   ],
   "source": [
    "# 8. Check if a person is eligible to vote (age >= 18)\n",
    "\n",
    "age = int(input(\"Enter your age: \"))\n",
    "\n",
    "if age >= 18:\n",
    "    print(\"You are eligible to vote.\")\n",
    "else:\n",
    "    print(\"You are not eligible to vote.\")\n"
   ]
  },
  {
   "cell_type": "code",
   "execution_count": 22,
   "id": "23d447e2-7c8d-4a18-bf54-579eaee98d44",
   "metadata": {},
   "outputs": [
    {
     "name": "stdin",
     "output_type": "stream",
     "text": [
      "Enter a year:  2025\n"
     ]
    },
    {
     "name": "stdout",
     "output_type": "stream",
     "text": [
      "The year is not a Leap Year.\n"
     ]
    }
   ],
   "source": [
    "# 9. Check if a year is a leap year\n",
    "\n",
    "year = int(input(\"Enter a year: \"))\n",
    "\n",
    "if (year % 400 == 0) or (year % 4 == 0 and year % 100 != 0):\n",
    "    print(\"The year is a Leap Year.\")\n",
    "else:\n",
    "    print(\"The year is not a Leap Year.\")\n"
   ]
  },
  {
   "cell_type": "code",
   "execution_count": 25,
   "id": "540882f9-6c18-4f5c-ade8-f01815dd2a1a",
   "metadata": {},
   "outputs": [
    {
     "name": "stdin",
     "output_type": "stream",
     "text": [
      "Enter a character:  a\n"
     ]
    },
    {
     "name": "stdout",
     "output_type": "stream",
     "text": [
      "The character is a Vowel.\n"
     ]
    }
   ],
   "source": [
    "# 10. Check if a character is a vowel\n",
    "\n",
    "ch = input(\"Enter a character: \")\n",
    "\n",
    "if ch.lower() in ['a', 'e', 'i', 'o', 'u']:\n",
    "    print(\"The character is a Vowel.\")\n",
    "else:\n",
    "    print(\"The character is not a Vowel.\")\n",
    "    "
   ]
  },
  {
   "cell_type": "code",
   "execution_count": 28,
   "id": "35df7376-8ea2-4c03-8e5f-225fc58cf025",
   "metadata": {},
   "outputs": [
    {
     "name": "stdin",
     "output_type": "stream",
     "text": [
      "Enter a character:  rs\n"
     ]
    },
    {
     "name": "stdout",
     "output_type": "stream",
     "text": [
      "The character is a Consonant.\n"
     ]
    }
   ],
   "source": [
    "# 11. Check if a character is a consonant\n",
    "\n",
    "ch = input(\"Enter a character: \")\n",
    "\n",
    "if ch.isalpha() and ch.lower() not in ['a', 'e', 'i', 'o', 'u']:\n",
    "    print(\"The character is a Consonant.\")\n",
    "else:\n",
    "    print(\"The character is not a Consonant.\")\n"
   ]
  },
  {
   "cell_type": "code",
   "execution_count": 29,
   "id": "889d175a-3d54-4b59-bca9-4377751f233b",
   "metadata": {},
   "outputs": [
    {
     "name": "stdin",
     "output_type": "stream",
     "text": [
      "Enter a number:  21\n"
     ]
    },
    {
     "name": "stdout",
     "output_type": "stream",
     "text": [
      "The number is a multiple of 3 or 7.\n"
     ]
    }
   ],
   "source": [
    "# 12. Check if a number is a multiple of 3 or 7\n",
    "\n",
    "num = int(input(\"Enter a number: \"))\n",
    "\n",
    "if num % 3 == 0 or num % 7 == 0:\n",
    "    print(\"The number is a multiple of 3 or 7.\")\n",
    "else:\n",
    "    print(\"The number is not a multiple of 3 or 7.\")\n"
   ]
  },
  {
   "cell_type": "code",
   "execution_count": 32,
   "id": "a6974ffc-48ca-495b-9e90-eb89decdfffa",
   "metadata": {},
   "outputs": [
    {
     "name": "stdin",
     "output_type": "stream",
     "text": [
      "Enter first number:  20\n",
      "Enter second number:  40\n"
     ]
    },
    {
     "name": "stdout",
     "output_type": "stream",
     "text": [
      "The greater number is: 40\n"
     ]
    }
   ],
   "source": [
    "# 13. Compare two numbers and print the greater one\n",
    "\n",
    "a = int(input(\"Enter first number: \"))\n",
    "b = int(input(\"Enter second number: \"))\n",
    "\n",
    "if a > b:\n",
    "    print(\"The greater number is:\", a)\n",
    "else:\n",
    "    print(\"The greater number is:\", b)\n",
    "\n"
   ]
  },
  {
   "cell_type": "code",
   "execution_count": 33,
   "id": "63058081-88b9-436f-9e15-7cc668c8681c",
   "metadata": {},
   "outputs": [
    {
     "name": "stdin",
     "output_type": "stream",
     "text": [
      "Enter first number:  31\n",
      "Enter second number:  5\n"
     ]
    },
    {
     "name": "stdout",
     "output_type": "stream",
     "text": [
      "The smaller number is: 5\n"
     ]
    }
   ],
   "source": [
    "# 14. Compare two numbers and print the smaller one\n",
    "\n",
    "a = int(input(\"Enter first number: \"))\n",
    "b = int(input(\"Enter second number: \"))\n",
    "\n",
    "if a < b:\n",
    "    print(\"The smaller number is:\", a)\n",
    "else:\n",
    "    print(\"The smaller number is:\", b)\n"
   ]
  },
  {
   "cell_type": "code",
   "execution_count": 34,
   "id": "d8b478dc-fcac-4639-afad-83144bbeb9b1",
   "metadata": {},
   "outputs": [
    {
     "name": "stdin",
     "output_type": "stream",
     "text": [
      "Enter first number:  5\n",
      "Enter second number:  5\n"
     ]
    },
    {
     "name": "stdout",
     "output_type": "stream",
     "text": [
      "The numbers are Equal.\n"
     ]
    }
   ],
   "source": [
    "# 15. Check if two numbers are \n",
    "\n",
    "a = int(input(\"Enter first number: \"))\n",
    "b = int(input(\"Enter second number: \"))\n",
    "\n",
    "if a == b:\n",
    "    print(\"The numbers are Equal.\")\n",
    "else:\n",
    "    print(\"The numbers are Not Equal.\")\n"
   ]
  },
  {
   "cell_type": "code",
   "execution_count": 35,
   "id": "403b97ff-f566-40da-b4c9-ecf4f06b3da3",
   "metadata": {},
   "outputs": [
    {
     "name": "stdin",
     "output_type": "stream",
     "text": [
      "Enter a number:  20\n"
     ]
    },
    {
     "name": "stdout",
     "output_type": "stream",
     "text": [
      "The number is in the range 10 to 50.\n"
     ]
    }
   ],
   "source": [
    "# 16. Check if a number is in the range 10 to 50\n",
    "\n",
    "num = int(input(\"Enter a number: \"))\n",
    "\n",
    "if 10 <= num <= 50:\n",
    "    print(\"The number is in the range 10 to 50.\")\n",
    "else:\n",
    "    print(\"The number is not in the range 10 to 50.\")\n"
   ]
  },
  {
   "cell_type": "code",
   "execution_count": 36,
   "id": "56231730-9c1c-44ff-9194-fbeecc529e20",
   "metadata": {},
   "outputs": [
    {
     "name": "stdin",
     "output_type": "stream",
     "text": [
      "Enter a number:  315\n"
     ]
    },
    {
     "name": "stdout",
     "output_type": "stream",
     "text": [
      "The number is outside the range 100 to 200.\n"
     ]
    }
   ],
   "source": [
    "### 17. Check if a number is outside the range 100 to 200\n",
    "\n",
    "num = int(input(\"Enter a number: \"))\n",
    "\n",
    "if num < 100 or num > 200:\n",
    "    print(\"The number is outside the range 100 to 200.\")\n",
    "else:\n",
    "    print(\"The number is within the range 100 to 200.\")\n"
   ]
  },
  {
   "cell_type": "code",
   "execution_count": 37,
   "id": "df8166e0-7258-46b5-a9e1-3b94bc42b066",
   "metadata": {},
   "outputs": [
    {
     "name": "stdin",
     "output_type": "stream",
     "text": [
      "Enter a number:  6\n"
     ]
    },
    {
     "name": "stdout",
     "output_type": "stream",
     "text": [
      "The number is divisible by both 2 and 3.\n"
     ]
    }
   ],
   "source": [
    "# 18. Check if a number is divisible by both 2 and 3\n",
    "\n",
    "num = int(input(\"Enter a number: \"))\n",
    "\n",
    "if num % 2 == 0 and num % 3 == 0:\n",
    "    print(\"The number is divisible by both 2 and 3.\")\n",
    "else:\n",
    "    print(\"The number is not divisible by both 2 and 3.\")\n"
   ]
  },
  {
   "cell_type": "code",
   "execution_count": 38,
   "id": "81e4ccfe-a09d-499a-92ff-56168a0cbf7a",
   "metadata": {},
   "outputs": [
    {
     "name": "stdin",
     "output_type": "stream",
     "text": [
      "Enter a number:  24\n"
     ]
    },
    {
     "name": "stdout",
     "output_type": "stream",
     "text": [
      "The number is divisible by either 4 or 6.\n"
     ]
    }
   ],
   "source": [
    "# 19. Check if a number is divisible by either 4 or 6\n",
    "\n",
    "num = int(input(\"Enter a number: \"))\n",
    "\n",
    "if num % 4 == 0 or num % 6 == 0:\n",
    "    print(\"The number is divisible by either 4 or 6.\")\n",
    "else:\n",
    "    print(\"The number is not divisible by 4 or 6.\")\n",
    "    \n"
   ]
  },
  {
   "cell_type": "code",
   "execution_count": 39,
   "id": "ebc57f90-3f84-4055-a3c5-b6882ad2fd05",
   "metadata": {},
   "outputs": [
    {
     "name": "stdin",
     "output_type": "stream",
     "text": [
      "Enter age:  19\n"
     ]
    },
    {
     "name": "stdout",
     "output_type": "stream",
     "text": [
      "The person is a Teenager.\n"
     ]
    }
   ],
   "source": [
    "# 20. Check if a person is a teenager (age between 13 and 19)\n",
    "\n",
    "age = int(input(\"Enter age: \"))\n",
    "\n",
    "if 13 <= age <= 19:\n",
    "    print(\"The person is a Teenager.\")\n",
    "else:\n",
    "    print(\"The person is not a Teenager.\")\n"
   ]
  },
  {
   "cell_type": "code",
   "execution_count": 5,
   "id": "6eb85f5e-bbed-4064-a960-ba62bad1d83e",
   "metadata": {
    "jupyter": {
     "source_hidden": true
    }
   },
   "outputs": [
    {
     "name": "stdin",
     "output_type": "stream",
     "text": [
      "Enter the marks:  90\n"
     ]
    },
    {
     "name": "stdout",
     "output_type": "stream",
     "text": [
      "A Grade\n"
     ]
    }
   ],
   "source": [
    "#21. write a program to print grade based on marks(A,B,C,D,F)\n",
    "# marks between 80 to 100 -> A\n",
    "# marks between 60 to 79 -> B\n",
    "# marks between 45 to 55 -> C\n",
    "# marks between 35 to 44 -> D\n",
    "# OTHERWISE FAIL\n",
    "\n",
    "marks = int(input(\"Enter the marks: \"))\n",
    "\n",
    "if 0 <= marks <= 100:\n",
    "    if 80 <= marks <= 100:\n",
    "        print(\"A Grade\")\n",
    "    elif 60 <= marks < 80:\n",
    "        print(\"B Grade\")\n",
    "    elif 45 <= marks < 60:\n",
    "        print(\"C Grade\")\n",
    "    elif 35 <= marks < 45:\n",
    "        print(\"D Grade\")\n",
    "    else:\n",
    "        print(\"Fail\")\n",
    "else:\n",
    "    print(\"Invalid marks\")"
   ]
  },
  {
   "cell_type": "code",
   "execution_count": 9,
   "id": "660c5996-2c2e-449e-8680-0367999c90e0",
   "metadata": {},
   "outputs": [
    {
     "name": "stdin",
     "output_type": "stream",
     "text": [
      "Enter the marks:  80\n"
     ]
    },
    {
     "name": "stdout",
     "output_type": "stream",
     "text": [
      "A Grade\n"
     ]
    }
   ],
   "source": [
    "#21. write a program to print grade based on marks(A,B,C,D,F)\n",
    "# marks between 80 to 100 -> A\n",
    "# marks between 60 to 79 -> B\n",
    "# marks between 45 to 55 -> C\n",
    "# marks between 35 to 44 -> D\n",
    "# OTHERWISE FAIL\n",
    "\n",
    "marks = int(input(\"Enter the marks: \"))\n",
    "\n",
    "if 0 <= marks <= 100:\n",
    "    if 80 <= marks <= 100:\n",
    "        print(\"A Grade\")\n",
    "    elif 60 <= marks < 80:\n",
    "        print(\"B Grade\")\n",
    "    elif 45 <= marks < 60:\n",
    "        print(\"C Grade\")\n",
    "    elif 35 <= marks < 45:\n",
    "        print(\"D Grade\")\n",
    "    else:\n",
    "        print(\"Fail\")\n",
    "else:\n",
    "    print(\"Invalid marks\")"
   ]
  },
  {
   "cell_type": "code",
   "execution_count": 2,
   "id": "c863bc0c-6cc6-44e5-a5de-e2c46f376e2d",
   "metadata": {},
   "outputs": [
    {
     "name": "stdin",
     "output_type": "stream",
     "text": [
      "Enter the first no. : 5\n",
      "Enter the second no. : 31 \n",
      "Enter the third no. : 531\n"
     ]
    }
   ],
   "source": [
    "n1=int(input(\"Enter the first no. :\"))\n",
    "n2=int(input(\"Enter the second no. :\"))\n",
    "n3=int(input(\"Enter the third no. :\"))"
   ]
  },
  {
   "cell_type": "markdown",
   "id": "0688fe02-9fd4-4a00-a641-a56b3abb3eed",
   "metadata": {},
   "source": [
    "#  THURSDAY 11/12/2025"
   ]
  },
  {
   "cell_type": "code",
   "execution_count": 10,
   "id": "941f7635-b7ff-4730-92a6-5cba0cfe773f",
   "metadata": {},
   "outputs": [
    {
     "name": "stdout",
     "output_type": "stream",
     "text": [
      "This is a python class\n"
     ]
    }
   ],
   "source": [
    "text=\"This is a python class\"\n",
    "print(text)"
   ]
  },
  {
   "cell_type": "code",
   "execution_count": 11,
   "id": "c0e516ab-4aff-44cc-b907-1baf4fc1b104",
   "metadata": {},
   "outputs": [
    {
     "data": {
      "text/plain": [
       "'is'"
      ]
     },
     "execution_count": 11,
     "metadata": {},
     "output_type": "execute_result"
    }
   ],
   "source": [
    "text[5:7]"
   ]
  },
  {
   "cell_type": "code",
   "execution_count": 12,
   "id": "4c37cbbc-c643-49a1-b672-ee1cf68caa1f",
   "metadata": {},
   "outputs": [
    {
     "data": {
      "text/plain": [
       "'Ti sapto ls'"
      ]
     },
     "execution_count": 12,
     "metadata": {},
     "output_type": "execute_result"
    }
   ],
   "source": [
    "text[::2]"
   ]
  },
  {
   "cell_type": "code",
   "execution_count": 14,
   "id": "eac13ec7-3257-4910-a724-a75a36b3f461",
   "metadata": {},
   "outputs": [
    {
     "data": {
      "text/plain": [
       "'i si'"
      ]
     },
     "execution_count": 14,
     "metadata": {},
     "output_type": "execute_result"
    }
   ],
   "source": [
    "text[5:1:-1]"
   ]
  },
  {
   "cell_type": "code",
   "execution_count": 15,
   "id": "c2edca1d-8335-45fc-ab6a-2e4e0f9a6246",
   "metadata": {},
   "outputs": [
    {
     "data": {
      "text/plain": [
       "'ssalc nohtyp a si sih'"
      ]
     },
     "execution_count": 15,
     "metadata": {},
     "output_type": "execute_result"
    }
   ],
   "source": [
    "text[21:0:-1]"
   ]
  },
  {
   "cell_type": "code",
   "execution_count": 16,
   "id": "fa7f61b1-fb81-47bf-896c-d2e46608b981",
   "metadata": {},
   "outputs": [
    {
     "data": {
      "text/plain": [
       "22"
      ]
     },
     "execution_count": 16,
     "metadata": {},
     "output_type": "execute_result"
    }
   ],
   "source": [
    "len(text)"
   ]
  },
  {
   "cell_type": "code",
   "execution_count": 17,
   "id": "d2cad5de-56ae-4a7e-adeb-a2bc8f30a309",
   "metadata": {},
   "outputs": [
    {
     "data": {
      "text/plain": [
       "'ssalc nohtyp a si sihT'"
      ]
     },
     "execution_count": 17,
     "metadata": {},
     "output_type": "execute_result"
    }
   ],
   "source": [
    "text[::-1]"
   ]
  },
  {
   "cell_type": "code",
   "execution_count": 18,
   "id": "f9dfcb2d-a13e-46f2-b471-90773d9d80cc",
   "metadata": {},
   "outputs": [
    {
     "data": {
      "text/plain": [
       "'amihdiR'"
      ]
     },
     "execution_count": 18,
     "metadata": {},
     "output_type": "execute_result"
    }
   ],
   "source": [
    "name=\"Ridhima\"\n",
    "name[::-1]"
   ]
  },
  {
   "cell_type": "code",
   "execution_count": 21,
   "id": "d6882828-ed81-47aa-a62e-2915103a3e25",
   "metadata": {},
   "outputs": [
    {
     "name": "stdin",
     "output_type": "stream",
     "text": [
      "Enter the  first side :  5\n",
      "Enter the  2nd side :  4\n",
      "Enter the  3rd side :  4\n"
     ]
    },
    {
     "name": "stdout",
     "output_type": "stream",
     "text": [
      "Isosceles Triangle\n"
     ]
    }
   ],
   "source": [
    "side1=input(\"Enter the  first side : \")\n",
    "side2=input(\"Enter the  2nd side : \")\n",
    "side3=input(\"Enter the  3rd side : \")\n",
    "if side1==side2 and side1==side3 :\n",
    "  print(\"Equilateral Triangle\")\n",
    "elif side1!=side2 and side1!=side3 and side2!=side3:\n",
    "  print(\"scalene triangle\")\n",
    "else:\n",
    "  print(\"Isosceles Triangle\")"
   ]
  },
  {
   "cell_type": "code",
   "execution_count": 22,
   "id": "91597d50-0b76-4aeb-acb1-f7d629cbc7de",
   "metadata": {},
   "outputs": [
    {
     "name": "stdin",
     "output_type": "stream",
     "text": [
      "Enter the  first side :  5\n",
      "Enter the  2nd side :  5\n",
      "Enter the  3rd side :  5\n"
     ]
    },
    {
     "name": "stdout",
     "output_type": "stream",
     "text": [
      "Equilateral Triangle\n"
     ]
    }
   ],
   "source": [
    "side1=input(\"Enter the  first side : \")\n",
    "side2=input(\"Enter the  2nd side : \")\n",
    "side3=input(\"Enter the  3rd side : \")\n",
    "if side1==side2 and side1==side3 :\n",
    "  print(\"Equilateral Triangle\")\n",
    "elif side1!=side2 and side1!=side3 and side2!=side3:\n",
    "  print(\"scalene triangle\")\n",
    "else:\n",
    "  print(\"Isosceles Triangle\")"
   ]
  },
  {
   "cell_type": "code",
   "execution_count": 23,
   "id": "e3ff6bd6-2b74-4ecc-be82-bce29f92cd01",
   "metadata": {},
   "outputs": [
    {
     "name": "stdin",
     "output_type": "stream",
     "text": [
      "Enter the  first side :  5\n",
      "Enter the  2nd side :  31\n",
      "Enter the  3rd side :  6\n"
     ]
    },
    {
     "name": "stdout",
     "output_type": "stream",
     "text": [
      "scalene triangle\n"
     ]
    }
   ],
   "source": [
    "side1=input(\"Enter the  first side : \")\n",
    "side2=input(\"Enter the  2nd side : \")\n",
    "side3=input(\"Enter the  3rd side : \")\n",
    "if side1==side2 and side1==side3 :\n",
    "  print(\"Equilateral Triangle\")\n",
    "elif side1!=side2 and side1!=side3 and side2!=side3:\n",
    "  print(\"scalene triangle\")\n",
    "else:\n",
    "  print(\"Isosceles Triangle\")"
   ]
  },
  {
   "cell_type": "code",
   "execution_count": 29,
   "id": "793c049e-98f8-49c0-98c7-bbc500a013d9",
   "metadata": {},
   "outputs": [],
   "source": [
    "# side1=float(input(\"Enter the first side :\"))\n",
    "# print(f\"{side1}1cm\")"
   ]
  },
  {
   "cell_type": "markdown",
   "id": "a26d4eaa-93de-4f74-a3b8-2c1a13180a9f",
   "metadata": {},
   "source": [
    "# Split & join"
   ]
  },
  {
   "cell_type": "code",
   "execution_count": 26,
   "id": "2ef21da8-5e1a-4cb2-be33-44aa4a236bc3",
   "metadata": {},
   "outputs": [
    {
     "data": {
      "text/plain": [
       "['hello', 'python']"
      ]
     },
     "execution_count": 26,
     "metadata": {},
     "output_type": "execute_result"
    }
   ],
   "source": [
    "s1=\"hello python\"\n",
    "s1.split()"
   ]
  },
  {
   "cell_type": "markdown",
   "id": "3becb2fa-80e6-4ac9-a282-c6881728bf50",
   "metadata": {},
   "source": [
    "s1=\"hello python\"\n",
    "s1.split(sep=\"0\")"
   ]
  },
  {
   "cell_type": "code",
   "execution_count": 36,
   "id": "b8029d03-86fa-4321-a4ac-57d297251b87",
   "metadata": {},
   "outputs": [
    {
     "name": "stdout",
     "output_type": "stream",
     "text": [
      "['Ridhima,Aditi,Tanya,Babli,Suresh,Mayank,Mishti,Ridhu,Ridhi']\n"
     ]
    }
   ],
   "source": [
    "name=\"Ridhima,Aditi,Tanya,Babli,Suresh,Mayank,Mishti,Ridhu,Ridhi\"\n",
    "N=name.split(\", \")\n",
    "print(N)"
   ]
  },
  {
   "cell_type": "code",
   "execution_count": 37,
   "id": "46cc2968-e7bc-46f4-8a2f-c52c932541aa",
   "metadata": {},
   "outputs": [
    {
     "data": {
      "text/plain": [
       "['ducat123', 'gmail.com']"
      ]
     },
     "execution_count": 37,
     "metadata": {},
     "output_type": "execute_result"
    }
   ],
   "source": [
    "email=\"ducat123@gmail.com\"\n",
    "email.split(\"@\")"
   ]
  },
  {
   "cell_type": "markdown",
   "id": "0d935ebd-2671-454b-975c-0d35d7852217",
   "metadata": {},
   "source": [
    "# join()"
   ]
  },
  {
   "cell_type": "code",
   "execution_count": 42,
   "id": "920f7465-4123-42b2-b345-ce4cc87df51a",
   "metadata": {},
   "outputs": [
    {
     "data": {
      "text/plain": [
       "['R', 'i', 'd', 'h', 'i', 'm', 'a']"
      ]
     },
     "execution_count": 42,
     "metadata": {},
     "output_type": "execute_result"
    }
   ],
   "source": [
    "S=\"Ridhima\"\n",
    "list(S)"
   ]
  },
  {
   "cell_type": "code",
   "execution_count": 43,
   "id": "b0cec808-c70d-4ebc-b648-ec347e838e9f",
   "metadata": {},
   "outputs": [
    {
     "name": "stdout",
     "output_type": "stream",
     "text": [
      "['R', 'i', 'd', 'h', 'i', 'm', 'a']\n"
     ]
    }
   ],
   "source": [
    "# 16. Slice the string \"Hello World\" to extract the first word, then join it with the string \"Universe\" using a space separator.\n",
    "a=\"Hello World\"\n",
    "x,y=a.split()\n",
    "print(x)\n",
    "print(y)\n",
    "b=\"Universe\"\n",
    "\" \".join([x,b])"
   ]
  },
  {
   "cell_type": "code",
   "execution_count": 44,
   "id": "159d2b1e-72b9-476e-8dea-061b25af39a8",
   "metadata": {},
   "outputs": [
    {
     "data": {
      "text/plain": [
       "\"['R', 'i', 'd', 'h', 'i', 'm', 'a']\""
      ]
     },
     "execution_count": 44,
     "metadata": {},
     "output_type": "execute_result"
    }
   ],
   "source": [
    "str(L1)"
   ]
  },
  {
   "cell_type": "code",
   "execution_count": 45,
   "id": "91032381-9989-4a15-a2de-d82352dc869f",
   "metadata": {},
   "outputs": [
    {
     "data": {
      "text/plain": [
       "'Ridhima'"
      ]
     },
     "execution_count": 45,
     "metadata": {},
     "output_type": "execute_result"
    }
   ],
   "source": [
    "\"\".join(L1)"
   ]
  },
  {
   "cell_type": "code",
   "execution_count": 46,
   "id": "9000c2fd-a99e-4495-b277-e8f1be576c71",
   "metadata": {},
   "outputs": [
    {
     "data": {
      "text/plain": [
       "'applemangoorangeBanana'"
      ]
     },
     "execution_count": 46,
     "metadata": {},
     "output_type": "execute_result"
    }
   ],
   "source": [
    "L2=['apple','mango','orange','Banana']\n",
    "''.join(L2)"
   ]
  },
  {
   "cell_type": "code",
   "execution_count": 47,
   "id": "8016b624-57ca-40d6-acc1-e8e8f8eb89aa",
   "metadata": {},
   "outputs": [
    {
     "data": {
      "text/plain": [
       "'apple mango orange Banana'"
      ]
     },
     "execution_count": 47,
     "metadata": {},
     "output_type": "execute_result"
    }
   ],
   "source": [
    "L2=['apple','mango','orange','Banana']\n",
    "' '.join(L2)"
   ]
  },
  {
   "cell_type": "code",
   "execution_count": 48,
   "id": "f6b477ab-bd83-42b8-817f-73f591045ea5",
   "metadata": {},
   "outputs": [
    {
     "name": "stdout",
     "output_type": "stream",
     "text": [
      "Hel\n"
     ]
    }
   ],
   "source": [
    "text = \"Hello World\"\n",
    "first_three = text[:3]\n",
    "print(first_three)"
   ]
  },
  {
   "cell_type": "code",
   "execution_count": null,
   "id": "2a78b937-fc51-4760-b460-da7198f2ecd8",
   "metadata": {},
   "outputs": [],
   "source": []
  }
 ],
 "metadata": {
  "kernelspec": {
   "display_name": "Python [conda env:base] *",
   "language": "python",
   "name": "conda-base-py"
  },
  "language_info": {
   "codemirror_mode": {
    "name": "ipython",
    "version": 3
   },
   "file_extension": ".py",
   "mimetype": "text/x-python",
   "name": "python",
   "nbconvert_exporter": "python",
   "pygments_lexer": "ipython3",
   "version": "3.13.5"
  }
 },
 "nbformat": 4,
 "nbformat_minor": 5
}
