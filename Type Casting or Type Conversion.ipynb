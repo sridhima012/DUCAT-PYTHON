{
 "cells": [
  {
   "cell_type": "markdown",
   "id": "8fa5bd1c-a745-4c5f-9d68-b6f2a81844f1",
   "metadata": {},
   "source": [
    "# Type Casting/Type Conversion\n",
    "1. Implicit\n",
    "2. Explicit"
   ]
  },
  {
   "cell_type": "code",
   "execution_count": 1,
   "id": "fc206642-9cd0-44ae-99c5-990aee9794e8",
   "metadata": {},
   "outputs": [
    {
     "ename": "TypeError",
     "evalue": "unsupported operand type(s) for +: 'int' and 'str'",
     "output_type": "error",
     "traceback": [
      "\u001b[1;31m---------------------------------------------------------------------------\u001b[0m",
      "\u001b[1;31mTypeError\u001b[0m                                 Traceback (most recent call last)",
      "Cell \u001b[1;32mIn[1], line 1\u001b[0m\n\u001b[1;32m----> 1\u001b[0m \u001b[38;5;241m10\u001b[39m \u001b[38;5;241m+\u001b[39m \u001b[38;5;124m'\u001b[39m\u001b[38;5;124m10\u001b[39m\u001b[38;5;124m'\u001b[39m\n",
      "\u001b[1;31mTypeError\u001b[0m: unsupported operand type(s) for +: 'int' and 'str'"
     ]
    }
   ],
   "source": [
    "10 + '10'"
   ]
  },
  {
   "cell_type": "markdown",
   "id": "1a7ba430-f8dc-4f6f-b5af-a1299d7d49b8",
   "metadata": {},
   "source": [
    "# Implicit"
   ]
  },
  {
   "cell_type": "code",
   "execution_count": 2,
   "id": "19521442-96cf-41f6-a665-9fdc8580889a",
   "metadata": {},
   "outputs": [
    {
     "data": {
      "text/plain": [
       "20.5"
      ]
     },
     "execution_count": 2,
     "metadata": {},
     "output_type": "execute_result"
    }
   ],
   "source": [
    "10+10.5"
   ]
  },
  {
   "cell_type": "code",
   "execution_count": 3,
   "id": "60c1711b-ff6a-498d-926b-3c75ccb7fa7b",
   "metadata": {},
   "outputs": [
    {
     "data": {
      "text/plain": [
       "5.2"
      ]
     },
     "execution_count": 3,
     "metadata": {},
     "output_type": "execute_result"
    }
   ],
   "source": [
    "10-4.8"
   ]
  },
  {
   "cell_type": "markdown",
   "id": "87f81ca5-3751-4a54-9a16-9c1e60e7b407",
   "metadata": {},
   "source": [
    "# Explitcit\n",
    "1. `int()`\n",
    "2. `str()`\n",
    "3. `float()`\n",
    "4. `bool()`\n",
    "5. `complex()`\n",
    "6. `list()`\n",
    "7. `tuple()`\n",
    "8. `set()`\n",
    "9. `dict()`\n",
    "10. `bin()`\n",
    "11. `oct()`\n",
    "12. `hex()` "
   ]
  },
  {
   "cell_type": "markdown",
   "id": "40ded2e3-f945-4504-831a-a56e42016952",
   "metadata": {},
   "source": [
    "# **input() Function**"
   ]
  },
  {
   "cell_type": "code",
   "execution_count": 3,
   "id": "173dcb6c-8aa5-4dd9-bc9a-8c73113c7b67",
   "metadata": {},
   "outputs": [
    {
     "name": "stdin",
     "output_type": "stream",
     "text": [
      " hello\n"
     ]
    },
    {
     "name": "stdout",
     "output_type": "stream",
     "text": [
      "hello\n"
     ]
    }
   ],
   "source": [
    "a=input()\n",
    "print(a)"
   ]
  },
  {
   "cell_type": "code",
   "execution_count": 5,
   "id": "7efb6851-3711-4331-b271-b18dabba4ded",
   "metadata": {},
   "outputs": [
    {
     "name": "stdin",
     "output_type": "stream",
     "text": [
      "Enter the No. : 05\n"
     ]
    },
    {
     "name": "stdout",
     "output_type": "stream",
     "text": [
      "05\n"
     ]
    }
   ],
   "source": [
    "a=input(\"Enter the No. :\")\n",
    "print(a)"
   ]
  },
  {
   "cell_type": "code",
   "execution_count": 6,
   "id": "cf5ec1f1-60e8-444c-8d9e-7eda1c0e5149",
   "metadata": {},
   "outputs": [
    {
     "name": "stdin",
     "output_type": "stream",
     "text": [
      "Enter the No. : 10\n"
     ]
    },
    {
     "name": "stdout",
     "output_type": "stream",
     "text": [
      "10 <class 'str'>\n"
     ]
    }
   ],
   "source": [
    "a=input(\"Enter the No. :\")\n",
    "print(a,type(a))"
   ]
  },
  {
   "cell_type": "code",
   "execution_count": 8,
   "id": "a422d7ec-e3ab-4337-b5f7-bb26d4f9b872",
   "metadata": {},
   "outputs": [
    {
     "name": "stdin",
     "output_type": "stream",
     "text": [
      "Enter the 1st no. 10\n",
      "Enter the 2nd no. 10\n"
     ]
    },
    {
     "name": "stdout",
     "output_type": "stream",
     "text": [
      "10 <class 'int'>\n",
      "Addition of10 and 10 is 20\n"
     ]
    }
   ],
   "source": [
    "x=int(input(\"Enter the 1st no.\"))\n",
    "y=int(input(\"Enter the 2nd no.\"))\n",
    "print(x,type(x))\n",
    "print(f\"Addition of{x} and {y} is {x+y}\")\n"
   ]
  },
  {
   "cell_type": "code",
   "execution_count": 4,
   "id": "1dab6234-292e-4c05-b294-157baa538ee6",
   "metadata": {},
   "outputs": [
    {
     "name": "stdout",
     "output_type": "stream",
     "text": [
      "100 <class 'str'>\n"
     ]
    }
   ],
   "source": [
    "s=str(100)\n",
    "print(s,type(s))"
   ]
  },
  {
   "cell_type": "code",
   "execution_count": 5,
   "id": "5bfd7f38-b75e-4e15-85ca-a6abde20fe53",
   "metadata": {},
   "outputs": [
    {
     "data": {
      "text/plain": [
       "str"
      ]
     },
     "execution_count": 5,
     "metadata": {},
     "output_type": "execute_result"
    }
   ],
   "source": [
    "d=str([1,3,5,7,])\n",
    "type(d)"
   ]
  },
  {
   "cell_type": "code",
   "execution_count": 11,
   "id": "770eddcb-ba5f-49d2-a291-792fddccb669",
   "metadata": {},
   "outputs": [
    {
     "name": "stdin",
     "output_type": "stream",
     "text": [
      "Enter the 1st No. : 123.50\n"
     ]
    },
    {
     "name": "stdout",
     "output_type": "stream",
     "text": [
      "123.5 <class 'float'>\n"
     ]
    }
   ],
   "source": [
    "x=float(input(\"Enter the 1st No. :\"))\n",
    "print(x,type(x))"
   ]
  },
  {
   "cell_type": "code",
   "execution_count": 1,
   "id": "a4e96a08-0fbe-4e8f-ab8d-3801ad9d63f3",
   "metadata": {},
   "outputs": [
    {
     "data": {
      "text/plain": [
       "34.0"
      ]
     },
     "execution_count": 1,
     "metadata": {},
     "output_type": "execute_result"
    }
   ],
   "source": [
    "float(34)"
   ]
  },
  {
   "cell_type": "code",
   "execution_count": 2,
   "id": "90ef0694-2642-48c0-a069-a7a44fadd66d",
   "metadata": {},
   "outputs": [
    {
     "data": {
      "text/plain": [
       "False"
      ]
     },
     "execution_count": 2,
     "metadata": {},
     "output_type": "execute_result"
    }
   ],
   "source": [
    "bool(0)"
   ]
  },
  {
   "cell_type": "code",
   "execution_count": 3,
   "id": "d321ffdb-d0ee-46dd-93f7-d276aa40b7aa",
   "metadata": {},
   "outputs": [
    {
     "data": {
      "text/plain": [
       "True"
      ]
     },
     "execution_count": 3,
     "metadata": {},
     "output_type": "execute_result"
    }
   ],
   "source": [
    "bool([0,0,0,0,0,0,0,0])"
   ]
  },
  {
   "cell_type": "code",
   "execution_count": 4,
   "id": "e69bba5c-389e-4d74-b3d9-70bb5b8bedc3",
   "metadata": {},
   "outputs": [
    {
     "data": {
      "text/plain": [
       "(43+0j)"
      ]
     },
     "execution_count": 4,
     "metadata": {},
     "output_type": "execute_result"
    }
   ],
   "source": [
    "complex(43)"
   ]
  },
  {
   "cell_type": "code",
   "execution_count": 12,
   "id": "ae958d89-2978-4c32-9f3e-67564d93893f",
   "metadata": {},
   "outputs": [
    {
     "data": {
      "text/plain": [
       "['R', 'i', 'd', 'h', 'i', 'm', 'a']"
      ]
     },
     "execution_count": 12,
     "metadata": {},
     "output_type": "execute_result"
    }
   ],
   "source": [
    "s='Ridhima'\n",
    "list(s)"
   ]
  },
  {
   "cell_type": "code",
   "execution_count": 13,
   "id": "af302dcc-4600-4ce7-8550-97b5ef04f4a7",
   "metadata": {},
   "outputs": [
    {
     "data": {
      "text/plain": [
       "('R', 'i', 'd', 'h', 'i', 'm', 'a')"
      ]
     },
     "execution_count": 13,
     "metadata": {},
     "output_type": "execute_result"
    }
   ],
   "source": [
    "L=['R','i','d','h','i','m','a']\n",
    "tuple(L)"
   ]
  },
  {
   "cell_type": "code",
   "execution_count": 14,
   "id": "cf64e71c-c24b-492e-9f19-aed0cf6a3220",
   "metadata": {},
   "outputs": [
    {
     "data": {
      "text/plain": [
       "{'R', 'a', 'd', 'h', 'i', 'm'}"
      ]
     },
     "execution_count": 14,
     "metadata": {},
     "output_type": "execute_result"
    }
   ],
   "source": [
    "set(L)"
   ]
  },
  {
   "cell_type": "code",
   "execution_count": 15,
   "id": "7b10edab-8026-4df4-b0c0-997c7e9ccc41",
   "metadata": {},
   "outputs": [
    {
     "data": {
      "text/plain": [
       "{'name': 'Ridhima'}"
      ]
     },
     "execution_count": 15,
     "metadata": {},
     "output_type": "execute_result"
    }
   ],
   "source": [
    "dict(name=\"Ridhima\")"
   ]
  },
  {
   "cell_type": "code",
   "execution_count": 16,
   "id": "dd7dcfe7-8853-44c3-a829-4cb3640c66bc",
   "metadata": {},
   "outputs": [
    {
     "data": {
      "text/plain": [
       "{'string': ['R', 'i', 'd', 'h', 'i', 'm', 'a']}"
      ]
     },
     "execution_count": 16,
     "metadata": {},
     "output_type": "execute_result"
    }
   ],
   "source": [
    "dict(string=L)"
   ]
  },
  {
   "cell_type": "code",
   "execution_count": null,
   "id": "b9df2854-5331-462d-9249-240a8274547b",
   "metadata": {},
   "outputs": [],
   "source": []
  }
 ],
 "metadata": {
  "kernelspec": {
   "display_name": "Python [conda env:base] *",
   "language": "python",
   "name": "conda-base-py"
  },
  "language_info": {
   "codemirror_mode": {
    "name": "ipython",
    "version": 3
   },
   "file_extension": ".py",
   "mimetype": "text/x-python",
   "name": "python",
   "nbconvert_exporter": "python",
   "pygments_lexer": "ipython3",
   "version": "3.13.5"
  }
 },
 "nbformat": 4,
 "nbformat_minor": 5
}
