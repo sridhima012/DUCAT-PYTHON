{
 "cells": [
  {
   "cell_type": "markdown",
   "id": "29d4c183-d767-4e10-a06e-38c15af505d7",
   "metadata": {},
   "source": [
    "# Operators"
   ]
  },
  {
   "cell_type": "markdown",
   "id": "e16847dd-88f2-459c-91c0-9a68969a9d68",
   "metadata": {},
   "source": [
    "1. Arthematic Operatiors\n",
    "- Addition `+`\n",
    "- Subtraction `-`\n",
    "- Multiply `*`\n",
    "- Divide `/`\n",
    "- Modulus `%`  (remainder calculator)\n",
    "- Floor Division `//`  (Quotient calculator)\n",
    "- Exponential `**`   (Use for power like root)"
   ]
  },
  {
   "cell_type": "code",
   "execution_count": 2,
   "id": "d5021a27-fde0-489f-bfc3-189a59436066",
   "metadata": {},
   "outputs": [
    {
     "name": "stdout",
     "output_type": "stream",
     "text": [
      "30\n",
      "-10\n",
      "200\n",
      "0.5\n",
      "10\n",
      "0\n",
      "100000000000000000000\n"
     ]
    }
   ],
   "source": [
    "a=10\n",
    "b=20\n",
    "print(a+b)\n",
    "print(a-b)\n",
    "print(a*b)\n",
    "print(a/b)\n",
    "print(a%b)\n",
    "print(a//b)\n",
    "print(a**b)"
   ]
  },
  {
   "cell_type": "markdown",
   "id": "0d510c2a-7217-4e50-907e-27ed6c9ce582",
   "metadata": {},
   "source": [
    "2. Assignment Operators:\n",
    "  - `=`   *(Assignment)*\n",
    "  - `+=`  *(Add and assign)*\n",
    "  - `-=`  *(Subtract and assign)*\n",
    "  - `*=`  *(Multiply and assign)*\n",
    "  - `/=`  *(Divide and assign)*\n",
    "  - `%=`  *(Modulus and assign)*\n",
    "  - `//=` *(Floor divide and assign)*\n",
    "  - `**=` *(Exponent and assign)*"
   ]
  },
  {
   "cell_type": "code",
   "execution_count": 3,
   "id": "4723ea7f-8bb1-4cb9-bc66-3263a0aec989",
   "metadata": {},
   "outputs": [
    {
     "name": "stdout",
     "output_type": "stream",
     "text": [
      "10\n",
      "20\n",
      "10\n",
      "100\n",
      "10.0\n",
      "0.0\n",
      "0.0\n",
      "0.0\n"
     ]
    }
   ],
   "source": [
    "a=10 # (Assignment)\n",
    "print(a) \n",
    "a+=10 # (Add and assign)\n",
    "print(a)\n",
    "a-=10 # (Subtract and assign)\n",
    "print(a)\n",
    "a*=10 # (Multiply and assign)\n",
    "print(a)\n",
    "a/=10 # (Divide and assign)\n",
    "print(a)\n",
    "a%=10 # (Modulus and assign)\n",
    "print(a)\n",
    "a//=10 # (Floor divide and assign)\n",
    "print(a)\n",
    "a**=10 # (Exponent and assign)\n",
    "print(a)"
   ]
  },
  {
   "cell_type": "markdown",
   "id": "d1527182-2682-4767-ab26-10546d0b7dae",
   "metadata": {},
   "source": [
    "# Comparison Operators:\n",
    "- `==` (Equal to)\n",
    "- `!=` (Not equal to)\n",
    "- `<`  (Greater than)\n",
    "- `>`  (Less than) \n",
    "- `>=` (Greater than or equal to)\n",
    "- `<=` (Less than or equal to)"
   ]
  },
  {
   "cell_type": "code",
   "execution_count": 5,
   "id": "550b33a5-9d58-4a72-9238-4155931033e4",
   "metadata": {},
   "outputs": [
    {
     "name": "stdout",
     "output_type": "stream",
     "text": [
      "False\n",
      "True\n",
      "True\n",
      "False\n",
      "False\n",
      "True\n"
     ]
    }
   ],
   "source": [
    "a=10\n",
    "b=20\n",
    "print (a==b)\n",
    "print (a!=b)\n",
    "print (a<b)\n",
    "print (a>b)\n",
    "print (a>=b)\n",
    "print (a<=b)"
   ]
  },
  {
   "cell_type": "markdown",
   "id": "d6fcf7a5-85b7-4f7f-80b7-59e129bd4df8",
   "metadata": {},
   "source": [
    "# Logical Operation \n",
    "- And\n",
    "- or\n",
    "- not"
   ]
  },
  {
   "cell_type": "code",
   "execution_count": 7,
   "id": "4cf8f9a8-c20c-4bee-9318-fc342cf1e17d",
   "metadata": {},
   "outputs": [
    {
     "data": {
      "text/plain": [
       "False"
      ]
     },
     "execution_count": 7,
     "metadata": {},
     "output_type": "execute_result"
    }
   ],
   "source": [
    "a = 10\n",
    "b = 20\n",
    "c = 15\n",
    "a>b and a>c"
   ]
  },
  {
   "cell_type": "code",
   "execution_count": 8,
   "id": "2f32d388-e730-44ae-9c13-dee12654388e",
   "metadata": {},
   "outputs": [
    {
     "name": "stdout",
     "output_type": "stream",
     "text": [
      "True\n",
      "False\n",
      "False\n",
      "False\n"
     ]
    }
   ],
   "source": [
    "# And\n",
    "print (True and True)\n",
    "print (True and False)\n",
    "print (False and True)\n",
    "print (False and False)"
   ]
  },
  {
   "cell_type": "code",
   "execution_count": 9,
   "id": "10e641ba-7530-4d21-b9a9-a9b7a5dbe317",
   "metadata": {},
   "outputs": [
    {
     "name": "stdout",
     "output_type": "stream",
     "text": [
      "True\n",
      "True\n",
      "True\n",
      "False\n"
     ]
    }
   ],
   "source": [
    "# Or\n",
    "print (True or True)\n",
    "print (True or False)\n",
    "print (False or True)\n",
    "print (False or False)"
   ]
  },
  {
   "cell_type": "code",
   "execution_count": 10,
   "id": "326e7912-4bb9-4da7-ba9f-5b77cb72545e",
   "metadata": {},
   "outputs": [
    {
     "data": {
      "text/plain": [
       "False"
      ]
     },
     "execution_count": 10,
     "metadata": {},
     "output_type": "execute_result"
    }
   ],
   "source": [
    "# Not\n",
    "not True"
   ]
  },
  {
   "cell_type": "code",
   "execution_count": 11,
   "id": "4ed9536c-b89b-4b69-a3f8-553ae7ee53a5",
   "metadata": {},
   "outputs": [
    {
     "data": {
      "text/plain": [
       "True"
      ]
     },
     "execution_count": 11,
     "metadata": {},
     "output_type": "execute_result"
    }
   ],
   "source": [
    "not False"
   ]
  },
  {
   "cell_type": "code",
   "execution_count": 12,
   "id": "a6635c66-f766-4613-83a2-4b802a8bc4b6",
   "metadata": {},
   "outputs": [
    {
     "data": {
      "text/plain": [
       "False"
      ]
     },
     "execution_count": 12,
     "metadata": {},
     "output_type": "execute_result"
    }
   ],
   "source": [
    "not(True or True and True or False and True and True and False or True)"
   ]
  },
  {
   "cell_type": "markdown",
   "id": "577b3cd0-8569-44d4-b3cb-848fdbd4bce4",
   "metadata": {},
   "source": [
    "# Membership Operators \n",
    "- In\n",
    "- Not in"
   ]
  },
  {
   "cell_type": "code",
   "execution_count": 13,
   "id": "0d33e138-103c-450f-909b-42ff72dfe035",
   "metadata": {},
   "outputs": [
    {
     "data": {
      "text/plain": [
       "True"
      ]
     },
     "execution_count": 13,
     "metadata": {},
     "output_type": "execute_result"
    }
   ],
   "source": [
    "name = \"Mayank Bhatt\"\n",
    "\"M\" in name"
   ]
  },
  {
   "cell_type": "code",
   "execution_count": 14,
   "id": "27816d4d-d15e-4d38-9d10-1e04379e899c",
   "metadata": {},
   "outputs": [
    {
     "data": {
      "text/plain": [
       "True"
      ]
     },
     "execution_count": 14,
     "metadata": {},
     "output_type": "execute_result"
    }
   ],
   "source": [
    "T = (212,45,2,23)\n",
    "23 in T"
   ]
  },
  {
   "cell_type": "code",
   "execution_count": 15,
   "id": "5834e574-7e25-4328-96f1-f5f58ef3b354",
   "metadata": {},
   "outputs": [
    {
     "data": {
      "text/plain": [
       "True"
      ]
     },
     "execution_count": 15,
     "metadata": {},
     "output_type": "execute_result"
    }
   ],
   "source": [
    "T = [212,45,2,23]\n",
    "23 in T"
   ]
  },
  {
   "cell_type": "code",
   "execution_count": 16,
   "id": "7f4acd6e-901b-402c-9520-224a0c0a1b95",
   "metadata": {},
   "outputs": [
    {
     "data": {
      "text/plain": [
       "True"
      ]
     },
     "execution_count": 16,
     "metadata": {},
     "output_type": "execute_result"
    }
   ],
   "source": [
    "T = {212,45,2,23}\n",
    "23 in T"
   ]
  },
  {
   "cell_type": "code",
   "execution_count": 17,
   "id": "df3ce3f4-bfac-4600-87d0-6a863c928a65",
   "metadata": {},
   "outputs": [
    {
     "name": "stdout",
     "output_type": "stream",
     "text": [
      "{1, 2, 22}\n"
     ]
    },
    {
     "data": {
      "text/plain": [
       "True"
      ]
     },
     "execution_count": 17,
     "metadata": {},
     "output_type": "execute_result"
    }
   ],
   "source": [
    "T = {1,2,1,2,1,22,1, True}\n",
    "print (T)\n",
    "1 in T"
   ]
  },
  {
   "cell_type": "code",
   "execution_count": 18,
   "id": "e38a5129-f030-403a-9fcf-69dde808f848",
   "metadata": {},
   "outputs": [
    {
     "data": {
      "text/plain": [
       "True"
      ]
     },
     "execution_count": 18,
     "metadata": {},
     "output_type": "execute_result"
    }
   ],
   "source": [
    "True in T"
   ]
  },
  {
   "cell_type": "code",
   "execution_count": 19,
   "id": "37056e9b-b37d-4ac1-a305-0d989a2b5b96",
   "metadata": {},
   "outputs": [],
   "source": [
    "D={\n",
    "    \"Name\": [\"Mayank\",\"Satyma\",\"Rohan\",\"Dexant\"],\n",
    "    \"Age\": [27,23,24,25],\n",
    "    \"Address\": [\"Noida\",\"Ranchi\",\"Goa\",\"Delhi\"]\n",
    "}"
   ]
  },
  {
   "cell_type": "code",
   "execution_count": 20,
   "id": "cda7af28-ff12-4a72-8ca2-24955c0e01ae",
   "metadata": {},
   "outputs": [
    {
     "data": {
      "text/plain": [
       "True"
      ]
     },
     "execution_count": 20,
     "metadata": {},
     "output_type": "execute_result"
    }
   ],
   "source": [
    "\"Age\" in D"
   ]
  },
  {
   "cell_type": "code",
   "execution_count": 21,
   "id": "8f3b5228-b66d-43cc-b525-83d9010af027",
   "metadata": {},
   "outputs": [
    {
     "data": {
      "text/plain": [
       "True"
      ]
     },
     "execution_count": 21,
     "metadata": {},
     "output_type": "execute_result"
    }
   ],
   "source": [
    "\"Mayank\" in D['Name'] # to find name "
   ]
  },
  {
   "cell_type": "markdown",
   "id": "e439a10b-b218-48f0-9bfd-b44ad48796ed",
   "metadata": {},
   "source": [
    "# Identity Operation \n",
    "- is \n",
    "- is not"
   ]
  },
  {
   "cell_type": "code",
   "execution_count": 22,
   "id": "0b17d505-503c-4af3-80d8-af04ff1d8014",
   "metadata": {},
   "outputs": [
    {
     "name": "stdout",
     "output_type": "stream",
     "text": [
      "140717624462040\n",
      "140717624462040\n",
      "True\n",
      "True\n"
     ]
    }
   ],
   "source": [
    "A = 10\n",
    "B = 10\n",
    "print(id(A))\n",
    "print(id(B))\n",
    "print(A==B)\n",
    "print(A is B)"
   ]
  },
  {
   "cell_type": "code",
   "execution_count": 23,
   "id": "deab7b4a-7877-4203-aa5f-55d65defb49c",
   "metadata": {},
   "outputs": [
    {
     "name": "stdout",
     "output_type": "stream",
     "text": [
      "2087698917456\n",
      "2087698917008\n",
      "True\n",
      "False\n"
     ]
    }
   ],
   "source": [
    "A = 1000\n",
    "B = 1000\n",
    "print(id(A))\n",
    "print(id(B))\n",
    "print(A==B)\n",
    "print(A is B)"
   ]
  },
  {
   "cell_type": "code",
   "execution_count": 24,
   "id": "55a03fb0-2332-4bc8-b203-ced718f77f82",
   "metadata": {},
   "outputs": [
    {
     "name": "stdout",
     "output_type": "stream",
     "text": [
      "2087699705776\n",
      "2087699641712\n"
     ]
    }
   ],
   "source": [
    "X = \"Mayank Bhatt\"\n",
    "Y = \"Mayank Bhatt\"\n",
    "print(id(X))\n",
    "print(id(Y))"
   ]
  },
  {
   "cell_type": "markdown",
   "id": "9abc779a-a96f-44ad-9d67-ca7d45cfbd58",
   "metadata": {},
   "source": [
    "# Bitwise Operators\n",
    "-  `&`  and\n",
    "-  `|`  or\n",
    "-  `^`  xor\n",
    "-  `~`  not\n",
    "-  `>>` right shift\n",
    "-  `<<` Left shift"
   ]
  },
  {
   "cell_type": "raw",
   "id": "cfa4d8c9-5ff5-4003-b5e9-4e92e95dd657",
   "metadata": {},
   "source": [
    "And\n",
    "A           B            And(&)\n",
    "0           0              0\n",
    "0           1              0\n",
    "1           0              0\n",
    "1           1              1"
   ]
  },
  {
   "cell_type": "raw",
   "id": "54f37540-2154-4239-ae46-3f98bd75e187",
   "metadata": {},
   "source": [
    "or\n",
    "A           B             or(|)\n",
    "0           0              0\n",
    "0           1              1\n",
    "1           0              1\n",
    "1           1              1"
   ]
  },
  {
   "cell_type": "raw",
   "id": "fb86e238-5b88-4418-b289-9b95ae910ece",
   "metadata": {},
   "source": [
    "xor\n",
    "A           B            xor(^)\n",
    "0           0              0\n",
    "0           1              1\n",
    "1           0              1\n",
    "1           1              0"
   ]
  },
  {
   "cell_type": "code",
   "execution_count": 25,
   "id": "7fb116d3-8704-40e6-b661-f3e196045447",
   "metadata": {},
   "outputs": [
    {
     "data": {
      "text/plain": [
       "4"
      ]
     },
     "execution_count": 25,
     "metadata": {},
     "output_type": "execute_result"
    }
   ],
   "source": [
    "# this operators give answer in bit so not so important \n",
    "21 & 12"
   ]
  },
  {
   "cell_type": "code",
   "execution_count": 26,
   "id": "353f95ff-b63c-4170-9f2a-187db3b63dbf",
   "metadata": {},
   "outputs": [
    {
     "data": {
      "text/plain": [
       "'0b10101'"
      ]
     },
     "execution_count": 26,
     "metadata": {},
     "output_type": "execute_result"
    }
   ],
   "source": [
    "bin(21)"
   ]
  },
  {
   "cell_type": "code",
   "execution_count": 27,
   "id": "b66bd278-4830-4332-a139-d637dd3c2941",
   "metadata": {},
   "outputs": [
    {
     "data": {
      "text/plain": [
       "'0b1100'"
      ]
     },
     "execution_count": 27,
     "metadata": {},
     "output_type": "execute_result"
    }
   ],
   "source": [
    "bin(12)"
   ]
  },
  {
   "cell_type": "raw",
   "id": "afcdcef3-0464-44d1-89af-af0eb5b001f0",
   "metadata": {},
   "source": [
    "10101 = 21\n",
    "01100 = 12\n",
    "00100 = answer"
   ]
  },
  {
   "cell_type": "code",
   "execution_count": 29,
   "id": "fb44738f-5534-4096-b151-01f2c36696a9",
   "metadata": {},
   "outputs": [
    {
     "data": {
      "text/plain": [
       "4"
      ]
     },
     "execution_count": 29,
     "metadata": {},
     "output_type": "execute_result"
    }
   ],
   "source": [
    "0b00100 # this is who we get 4 "
   ]
  },
  {
   "cell_type": "code",
   "execution_count": 30,
   "id": "7a53f382-f603-409c-82cf-7b06f7a24789",
   "metadata": {},
   "outputs": [
    {
     "data": {
      "text/plain": [
       "-11"
      ]
     },
     "execution_count": 30,
     "metadata": {},
     "output_type": "execute_result"
    }
   ],
   "source": [
    "~10 # make it negative and +1 "
   ]
  },
  {
   "cell_type": "code",
   "execution_count": 31,
   "id": "7f334bd4-a063-4bda-b6ae-cfbaed3429fd",
   "metadata": {},
   "outputs": [
    {
     "data": {
      "text/plain": [
       "-22112006"
      ]
     },
     "execution_count": 31,
     "metadata": {},
     "output_type": "execute_result"
    }
   ],
   "source": [
    "~22112005"
   ]
  },
  {
   "cell_type": "code",
   "execution_count": 32,
   "id": "8b9cf136-5006-46c6-800f-73241f3bdaa1",
   "metadata": {},
   "outputs": [
    {
     "data": {
      "text/plain": [
       "5"
      ]
     },
     "execution_count": 32,
     "metadata": {},
     "output_type": "execute_result"
    }
   ],
   "source": [
    "23>>2  # it change 23 in bit and then minus 2  "
   ]
  },
  {
   "cell_type": "code",
   "execution_count": 33,
   "id": "d84143eb-0cc0-4bab-af52-d3d2c1581a74",
   "metadata": {},
   "outputs": [
    {
     "data": {
      "text/plain": [
       "'0b10111'"
      ]
     },
     "execution_count": 33,
     "metadata": {},
     "output_type": "execute_result"
    }
   ],
   "source": [
    "bin(23)"
   ]
  },
  {
   "cell_type": "code",
   "execution_count": 34,
   "id": "aa3d680d-109b-4619-856e-9239b91f377b",
   "metadata": {},
   "outputs": [
    {
     "data": {
      "text/plain": [
       "5"
      ]
     },
     "execution_count": 34,
     "metadata": {},
     "output_type": "execute_result"
    }
   ],
   "source": [
    "0b101"
   ]
  },
  {
   "cell_type": "code",
   "execution_count": 35,
   "id": "8fc4b27d-9768-45d7-95d7-24788529c110",
   "metadata": {},
   "outputs": [
    {
     "data": {
      "text/plain": [
       "84"
      ]
     },
     "execution_count": 35,
     "metadata": {},
     "output_type": "execute_result"
    }
   ],
   "source": [
    "21<<2  # it change 21 in bit and then add 2 zero in last "
   ]
  },
  {
   "cell_type": "code",
   "execution_count": 36,
   "id": "87fb30a5-90b8-41d5-b3b9-13e99848b3db",
   "metadata": {},
   "outputs": [
    {
     "data": {
      "text/plain": [
       "'0b10101'"
      ]
     },
     "execution_count": 36,
     "metadata": {},
     "output_type": "execute_result"
    }
   ],
   "source": [
    "bin(21)"
   ]
  },
  {
   "cell_type": "code",
   "execution_count": 37,
   "id": "b74e9f16-1c23-4e70-9cc2-9524a3c69bfd",
   "metadata": {},
   "outputs": [
    {
     "data": {
      "text/plain": [
       "84"
      ]
     },
     "execution_count": 37,
     "metadata": {},
     "output_type": "execute_result"
    }
   ],
   "source": [
    "0b1010100"
   ]
  },
  {
   "cell_type": "code",
   "execution_count": 5,
   "id": "0dcfaeb6-4972-4ecd-b3b8-4f5dad2c727b",
   "metadata": {},
   "outputs": [
    {
     "name": "stdout",
     "output_type": "stream",
     "text": [
      "[0, 3, 4, 5, 2, 3, 4, 6, 7, 8, 3, 3, 2, 2, 2, 1]\n",
      "{0, 1, 2, 3, 4, 5, 6, 7, 8}\n"
     ]
    }
   ],
   "source": [
    "L=[0,3,4,5,2,3,4,6,7,8,3,3,2,2,2,1]\n",
    "print(L)\n",
    "x = set(L)\n",
    "print(x)"
   ]
  },
  {
   "cell_type": "code",
   "execution_count": 8,
   "id": "e42969f8-f47d-4b86-9d55-cf8d43e155e7",
   "metadata": {},
   "outputs": [
    {
     "data": {
      "text/plain": [
       "-3382598541027174677"
      ]
     },
     "execution_count": 8,
     "metadata": {},
     "output_type": "execute_result"
    }
   ],
   "source": [
    "hash(\"3241\")\n",
    "# to make password"
   ]
  },
  {
   "cell_type": "code",
   "execution_count": 7,
   "id": "1ea29545-6716-49d7-b3ef-8b4573b2d38c",
   "metadata": {},
   "outputs": [
    {
     "data": {
      "text/plain": [
       "-625838443844445928"
      ]
     },
     "execution_count": 7,
     "metadata": {},
     "output_type": "execute_result"
    }
   ],
   "source": [
    "hash((1,2,3,4,5,5))"
   ]
  },
  {
   "cell_type": "code",
   "execution_count": 9,
   "id": "2c7a47df-9227-4478-9a9f-bf9822ed575b",
   "metadata": {},
   "outputs": [
    {
     "name": "stdout",
     "output_type": "stream",
     "text": [
      "line-1\n",
      "line-2\n",
      "line-3\n",
      "line-4\n",
      "line-5\n",
      "line-6\n",
      "line-7\n",
      "line-8\n",
      "line-9\n",
      "line-10\n",
      "line-11\n"
     ]
    }
   ],
   "source": [
    "print(\"line-1\")\n",
    "print(\"line-2\")\n",
    "print(\"line-3\")\n",
    "print(\"line-4\")\n",
    "print(\"line-5\")\n",
    "print(\"line-6\")\n",
    "print(\"line-7\")\n",
    "print(\"line-8\")\n",
    "print(\"line-9\")\n",
    "print(\"line-10\")\n",
    "print(\"line-11\")"
   ]
  },
  {
   "cell_type": "code",
   "execution_count": 10,
   "id": "b8a0c53d-8300-4992-b097-ef6ba2d68faf",
   "metadata": {},
   "outputs": [
    {
     "data": {
      "text/plain": [
       "True"
      ]
     },
     "execution_count": 10,
     "metadata": {},
     "output_type": "execute_result"
    }
   ],
   "source": [
    "no=10\n",
    "no>0"
   ]
  },
  {
   "cell_type": "code",
   "execution_count": 11,
   "id": "f23c96f1-5664-4682-9a35-1e08e802120c",
   "metadata": {},
   "outputs": [
    {
     "data": {
      "text/plain": [
       "False"
      ]
     },
     "execution_count": 11,
     "metadata": {},
     "output_type": "execute_result"
    }
   ],
   "source": [
    "no=-10\n",
    "no>0"
   ]
  },
  {
   "cell_type": "code",
   "execution_count": 12,
   "id": "4238e892-d4e2-43b5-8791-40416174bb9d",
   "metadata": {},
   "outputs": [
    {
     "name": "stdout",
     "output_type": "stream",
     "text": [
      "hello\n"
     ]
    }
   ],
   "source": [
    "if True:\n",
    "    print(\"hello\")"
   ]
  },
  {
   "cell_type": "code",
   "execution_count": 17,
   "id": "45ea849d-b1ac-4358-8229-d527cc722ae5",
   "metadata": {},
   "outputs": [],
   "source": [
    "if False:\n",
    "   print(\"hello\")"
   ]
  },
  {
   "cell_type": "code",
   "execution_count": 19,
   "id": "1bb590c1-807b-48fd-8f31-8274cddfc0a1",
   "metadata": {},
   "outputs": [
    {
     "name": "stdout",
     "output_type": "stream",
     "text": [
      "by\n"
     ]
    }
   ],
   "source": [
    "if False:\n",
    "   print(\"hello\")\n",
    "else:\n",
    "   print(\"by\")"
   ]
  },
  {
   "cell_type": "code",
   "execution_count": 22,
   "id": "37f1abaf-a335-4c07-8b64-b9439013fc2d",
   "metadata": {},
   "outputs": [
    {
     "name": "stdin",
     "output_type": "stream",
     "text": [
      "Enter any no -556\n"
     ]
    },
    {
     "name": "stdout",
     "output_type": "stream",
     "text": [
      "negative\n"
     ]
    }
   ],
   "source": [
    "# no is positive\n",
    "no=int(input(\"Enter any no\"))\n",
    "if no>0:\n",
    "   print(\"positive\")\n",
    "elif no==0:\n",
    "    print(\"Zero\")\n",
    "else:\n",
    "   print(\"negative\")"
   ]
  },
  {
   "cell_type": "code",
   "execution_count": 23,
   "id": "fe5a8363-262a-4ad6-b3d9-d25d7932f0a8",
   "metadata": {},
   "outputs": [
    {
     "name": "stdin",
     "output_type": "stream",
     "text": [
      "Enter any no 0\n"
     ]
    },
    {
     "name": "stdout",
     "output_type": "stream",
     "text": [
      "Zero\n"
     ]
    }
   ],
   "source": [
    "no=int(input(\"Enter any no\"))\n",
    "if no>0:\n",
    "   print(\"positive\")\n",
    "elif no==0:\n",
    "    print(\"Zero\")\n",
    "else:\n",
    "   print(\"negative\")"
   ]
  },
  {
   "cell_type": "code",
   "execution_count": 27,
   "id": "e8756ba0-fa70-4178-b733-5db9a65ed307",
   "metadata": {},
   "outputs": [
    {
     "name": "stdin",
     "output_type": "stream",
     "text": [
      "Enter any no 23\n"
     ]
    },
    {
     "name": "stdout",
     "output_type": "stream",
     "text": [
      "odd\n"
     ]
    }
   ],
   "source": [
    " # write a programme to check given no is even or odd\n",
    "no=int(input(\"Enter any no\"))\n",
    "if no%2==0:\n",
    "    print(\"Even\")   \n",
    "else:\n",
    "    print(\"odd\")          "
   ]
  },
  {
   "cell_type": "code",
   "execution_count": 29,
   "id": "4f50dadb-a4ca-4030-b69e-6b224e6f0ab1",
   "metadata": {},
   "outputs": [
    {
     "name": "stdin",
     "output_type": "stream",
     "text": [
      "Enter any no 24\n"
     ]
    },
    {
     "name": "stdout",
     "output_type": "stream",
     "text": [
      "24 is Even.\n"
     ]
    }
   ],
   "source": [
    "no=int(input(\"Enter any no\"))\n",
    "if no%2==0:\n",
    "    print(f\"{no} is Even.\")   \n",
    "else:\n",
    "    print(f\"{no} is odd.\")          "
   ]
  },
  {
   "cell_type": "code",
   "execution_count": 32,
   "id": "db15f429-2310-4357-a9bd-4d5f721f7971",
   "metadata": {},
   "outputs": [
    {
     "name": "stdin",
     "output_type": "stream",
     "text": [
      "Enter any no 75\n"
     ]
    },
    {
     "name": "stdout",
     "output_type": "stream",
     "text": [
      "Multiple of 3 and 5\n"
     ]
    }
   ],
   "source": [
    "# write a programme to check no. is multiple of 3 and 5\n",
    "no=int(input(\"Enter any no\"))\n",
    "if no%3==0 and no%5==0: \n",
    "    print(\"Multiple of 3 and 5\")\n",
    "else:\n",
    "    print(\"isn't multiple of 3 and 5\")"
   ]
  },
  {
   "cell_type": "code",
   "execution_count": 40,
   "id": "4b7fa0aa-da34-4921-a124-aa93107e4b57",
   "metadata": {},
   "outputs": [
    {
     "name": "stdin",
     "output_type": "stream",
     "text": [
      "Enter any no 225\n"
     ]
    },
    {
     "name": "stdout",
     "output_type": "stream",
     "text": [
      "Multiple of 3\n"
     ]
    }
   ],
   "source": [
    "no=int(input(\"Enter any no\"))\n",
    "if no%3==0: \n",
    "    print(\"Multiple of 3\")\n",
    "elif no%5==0:\n",
    "        print(\"Multiple of 5\")\n",
    "else:\n",
    "    print(\"isn't multiple of 3 or 5\")"
   ]
  },
  {
   "cell_type": "code",
   "execution_count": null,
   "id": "21a2705f-889e-4629-a32a-4453975d5da2",
   "metadata": {},
   "outputs": [],
   "source": []
  }
 ],
 "metadata": {
  "kernelspec": {
   "display_name": "Python [conda env:base] *",
   "language": "python",
   "name": "conda-base-py"
  },
  "language_info": {
   "codemirror_mode": {
    "name": "ipython",
    "version": 3
   },
   "file_extension": ".py",
   "mimetype": "text/x-python",
   "name": "python",
   "nbconvert_exporter": "python",
   "pygments_lexer": "ipython3",
   "version": "3.13.5"
  }
 },
 "nbformat": 4,
 "nbformat_minor": 5
}
