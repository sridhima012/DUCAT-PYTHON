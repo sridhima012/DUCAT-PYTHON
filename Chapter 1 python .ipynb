{
 "cells": [
  {
   "cell_type": "code",
   "execution_count": 1,
   "id": "cbcb6933-c795-49e9-a22f-34ad594505e8",
   "metadata": {},
   "outputs": [
    {
     "name": "stdout",
     "output_type": "stream",
     "text": [
      "ridhima\n"
     ]
    }
   ],
   "source": [
    "print(\"ridhima\")"
   ]
  },
  {
   "cell_type": "code",
   "execution_count": 2,
   "id": "3b6f78dd-2a5f-4f54-af8f-10e6831007bd",
   "metadata": {},
   "outputs": [
    {
     "name": "stdout",
     "output_type": "stream",
     "text": [
      "30\n"
     ]
    }
   ],
   "source": [
    "print(10+20)"
   ]
  },
  {
   "cell_type": "code",
   "execution_count": 3,
   "id": "6494024a-f4be-498f-9587-a33af34fa332",
   "metadata": {},
   "outputs": [
    {
     "name": "stdout",
     "output_type": "stream",
     "text": [
      "50\n"
     ]
    }
   ],
   "source": [
    "print(30+20)"
   ]
  },
  {
   "cell_type": "code",
   "execution_count": 8,
   "id": "e1ef5af3-7f28-4e7d-9004-84c9ed350804",
   "metadata": {},
   "outputs": [
    {
     "name": "stdout",
     "output_type": "stream",
     "text": [
      "10\n",
      "140712731849928\n"
     ]
    }
   ],
   "source": [
    "a=10\n",
    "print(a) \n",
    "print(id(a))"
   ]
  },
  {
   "cell_type": "code",
   "execution_count": null,
   "id": "ba794b55-ed7e-4d3f-8d19-45d72b867826",
   "metadata": {},
   "outputs": [],
   "source": [
    "# Primitive Data Types:\n",
    " • Integer\n",
    " • Float\n",
    " • String\n",
    " • Boolean\n",
    " \n",
    "# Composite Data Types:\n",
    " • List\n",
    " • Tuple\n",
    " • Dictionary (Maping datatype)\n",
    " • Set\n",
    "\n",
    "# other data type\n",
    "1. functionn/module\n",
    "2. class\n",
    "3. array\n",
    "\n",
    "# python built-in datatype\n",
    "None"
   ]
  },
  {
   "cell_type": "markdown",
   "id": "86a57140-8f6c-40fe-b169-323d8fd4a6e9",
   "metadata": {},
   "source": [
    "this is my python class\n",
    "**this is  my python class**\n",
    "# Title case1\n",
    "## Title case2\n",
    "### Title case3"
   ]
  },
  {
   "cell_type": "markdown",
   "id": "55a66cbb-f04d-4d02-856c-26c9b39b994c",
   "metadata": {},
   "source": [
    "- A\n",
    "- B\n",
    "- C\n",
    "- D\n"
   ]
  },
  {
   "cell_type": "markdown",
   "id": "00c6a82d-d203-43da-8ad3-3a6cad25c86d",
   "metadata": {},
   "source": [
    "1. ridhima\n",
    "2. ridhi\n",
    "3. ridhu\n",
    "   "
   ]
  },
  {
   "cell_type": "code",
   "execution_count": null,
   "id": "8744bf18-e215-4d51-88f4-c0e604d92bae",
   "metadata": {},
   "outputs": [],
   "source": []
  }
 ],
 "metadata": {
  "kernelspec": {
   "display_name": "Python [conda env:base] *",
   "language": "python",
   "name": "conda-base-py"
  },
  "language_info": {
   "codemirror_mode": {
    "name": "ipython",
    "version": 3
   },
   "file_extension": ".py",
   "mimetype": "text/x-python",
   "name": "python",
   "nbconvert_exporter": "python",
   "pygments_lexer": "ipython3",
   "version": "3.13.5"
  }
 },
 "nbformat": 4,
 "nbformat_minor": 5
}
