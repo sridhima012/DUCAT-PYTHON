{
 "cells": [
  {
   "cell_type": "code",
   "execution_count": 1,
   "id": "cbcb6933-c795-49e9-a22f-34ad594505e8",
   "metadata": {},
   "outputs": [
    {
     "name": "stdout",
     "output_type": "stream",
     "text": [
      "ridhima\n"
     ]
    }
   ],
   "source": [
    "print(\"ridhima\")"
   ]
  },
  {
   "cell_type": "code",
   "execution_count": 2,
   "id": "3b6f78dd-2a5f-4f54-af8f-10e6831007bd",
   "metadata": {},
   "outputs": [
    {
     "name": "stdout",
     "output_type": "stream",
     "text": [
      "30\n"
     ]
    }
   ],
   "source": [
    "print(10+20)"
   ]
  },
  {
   "cell_type": "code",
   "execution_count": 3,
   "id": "6494024a-f4be-498f-9587-a33af34fa332",
   "metadata": {},
   "outputs": [
    {
     "name": "stdout",
     "output_type": "stream",
     "text": [
      "50\n"
     ]
    }
   ],
   "source": [
    "print(30+20)"
   ]
  },
  {
   "cell_type": "code",
   "execution_count": 8,
   "id": "e1ef5af3-7f28-4e7d-9004-84c9ed350804",
   "metadata": {},
   "outputs": [
    {
     "name": "stdout",
     "output_type": "stream",
     "text": [
      "10\n",
      "140712731849928\n"
     ]
    }
   ],
   "source": [
    "a=10\n",
    "print(a) \n",
    "print(id(a))"
   ]
  },
  {
   "cell_type": "code",
   "execution_count": null,
   "id": "ba794b55-ed7e-4d3f-8d19-45d72b867826",
   "metadata": {},
   "outputs": [],
   "source": [
    "# Primitive Data Types:\n",
    " • Integer\n",
    " • Float\n",
    " • String\n",
    " • Boolean\n",
    " \n",
    "# Composite Data Types:\n",
    " • List\n",
    " • Tuple\n",
    " • Dictionary (Maping datatype)\n",
    " • Set\n",
    "\n",
    "# other data type\n",
    "1. functionn/module\n",
    "2. class\n",
    "3. array\n",
    "\n",
    "# python built-in datatype\n",
    "None"
   ]
  },
  {
   "cell_type": "markdown",
   "id": "86a57140-8f6c-40fe-b169-323d8fd4a6e9",
   "metadata": {},
   "source": [
    "this is my python class\n",
    "**this is  my python class**\n",
    "# Title case1\n",
    "## Title case2\n",
    "### Title case3"
   ]
  },
  {
   "cell_type": "markdown",
   "id": "55a66cbb-f04d-4d02-856c-26c9b39b994c",
   "metadata": {},
   "source": [
    "- A\n",
    "- B\n",
    "- C\n",
    "- D\n"
   ]
  },
  {
   "cell_type": "markdown",
   "id": "00c6a82d-d203-43da-8ad3-3a6cad25c86d",
   "metadata": {},
   "source": [
    "1. ridhima\n",
    "2. ridhi\n",
    "3. ridhu\n",
    "   "
   ]
  },
  {
   "cell_type": "code",
   "execution_count": 10,
   "id": "8744bf18-e215-4d51-88f4-c0e604d92bae",
   "metadata": {},
   "outputs": [
    {
     "name": "stdout",
     "output_type": "stream",
     "text": [
      "10\n"
     ]
    }
   ],
   "source": [
    "a=10 # this is intiger variable\n",
    "print(a)"
   ]
  },
  {
   "cell_type": "code",
   "execution_count": 12,
   "id": "497d88a8-a1a3-4b45-9b44-c145b2412281",
   "metadata": {},
   "outputs": [
    {
     "name": "stdout",
     "output_type": "stream",
     "text": [
      "5.24\n"
     ]
    }
   ],
   "source": [
    "b=5.24 # this is float value\n",
    "print(b)"
   ]
  },
  {
   "cell_type": "code",
   "execution_count": 13,
   "id": "ab3d0457-5e81-4da0-adff-74a6f601d703",
   "metadata": {},
   "outputs": [
    {
     "name": "stdout",
     "output_type": "stream",
     "text": [
      "hello python\n"
     ]
    }
   ],
   "source": [
    "c=\"hello python\" # this is string value\n",
    "print(c)"
   ]
  },
  {
   "cell_type": "code",
   "execution_count": 14,
   "id": "b1ea5570-94fd-459d-a9d2-9a3e509d550f",
   "metadata": {},
   "outputs": [
    {
     "name": "stdout",
     "output_type": "stream",
     "text": [
      "(4+6j)\n"
     ]
    }
   ],
   "source": [
    "d=4+6j # this is complex value\n",
    "print(d)\n"
   ]
  },
  {
   "cell_type": "code",
   "execution_count": 22,
   "id": "605d920f-2501-4293-a2cf-1937450dee6c",
   "metadata": {},
   "outputs": [
    {
     "name": "stdout",
     "output_type": "stream",
     "text": [
      "(10+5j)\n",
      "(2-1j)\n",
      "(18+26j)\n"
     ]
    }
   ],
   "source": [
    "x=4+3j\n",
    "y=6+2j\n",
    "print(x+y)\n",
    "print(y-x)\n",
    "print(x*y)"
   ]
  },
  {
   "cell_type": "code",
   "execution_count": null,
   "id": "ff4b6093-4138-41f5-829f-c90682684fe4",
   "metadata": {},
   "outputs": [],
   "source": [
    "j value is (-1)"
   ]
  },
  {
   "cell_type": "code",
   "execution_count": 2,
   "id": "902b8868-3eec-4452-b734-09a70797deb9",
   "metadata": {},
   "outputs": [],
   "source": [
    "a=10\n",
    "b=20.446\n",
    "c=\"python\"\n",
    "d=4+7j\n",
    "e=None\n"
   ]
  },
  {
   "cell_type": "code",
   "execution_count": 3,
   "id": "7f155f03-0f6b-48a0-8f59-4fb7ce0fed4c",
   "metadata": {},
   "outputs": [
    {
     "name": "stdout",
     "output_type": "stream",
     "text": [
      "10 <class 'int'>\n"
     ]
    }
   ],
   "source": [
    "print(a,type(a))"
   ]
  },
  {
   "cell_type": "markdown",
   "id": "391b14ea-7ae3-4a21-b058-a6bf294e7b02",
   "metadata": {},
   "source": [
    "# container datatypes\n",
    "# **List**"
   ]
  },
  {
   "cell_type": "code",
   "execution_count": 5,
   "id": "9af4942d-523b-462f-b799-3819111d9040",
   "metadata": {},
   "outputs": [
    {
     "name": "stdout",
     "output_type": "stream",
     "text": [
      "[1, 2, 3, 4, 4.7, 'hello', None]\n"
     ]
    },
    {
     "data": {
      "text/plain": [
       "list"
      ]
     },
     "execution_count": 5,
     "metadata": {},
     "output_type": "execute_result"
    }
   ],
   "source": [
    "lst=[1,2,3,4,4.7,\"hello\",None]\n",
    "print(lst)\n",
    "type(lst)\n"
   ]
  },
  {
   "cell_type": "markdown",
   "id": "8a304572-9ad7-4eb3-8636-a161a77894f9",
   "metadata": {},
   "source": [
    "List\n",
    "list created in square bracket\n",
    "list is a order collection of data\n",
    "list is a hetrogenus type of data\n",
    "list is a new table data type(changable)\n",
    "\n",
    "\n"
   ]
  },
  {
   "cell_type": "markdown",
   "id": "81c8868d-42dc-488f-8d35-cb4c92563309",
   "metadata": {},
   "source": [
    "# **Tuple**\n"
   ]
  },
  {
   "cell_type": "code",
   "execution_count": 7,
   "id": "df64691c-9f6a-450f-8b17-5163fc3bf292",
   "metadata": {},
   "outputs": [
    {
     "name": "stdout",
     "output_type": "stream",
     "text": [
      "(1, 2, 3, 4, 4.7, 'hello', None)\n"
     ]
    },
    {
     "data": {
      "text/plain": [
       "tuple"
      ]
     },
     "execution_count": 7,
     "metadata": {},
     "output_type": "execute_result"
    }
   ],
   "source": [
    "T1=(1,2,3,4,4.7,\"hello\",None)\n",
    "print(T1)\n",
    "type(T1)"
   ]
  },
  {
   "cell_type": "raw",
   "id": "3660c5f3-8cd9-454c-b818-372e0610c8be",
   "metadata": {},
   "source": [
    "1. tuple is create in round bracket()\n",
    "2. tuple is a ordered collection of datatype\n",
    "3. it is imutable(unchange) datatype also tuple in hetrogenus datatype\n",
    "4.due to immutability tuple is faster than list"
   ]
  },
  {
   "cell_type": "markdown",
   "id": "1802f173-3958-455a-9cab-0f2755f7b3c3",
   "metadata": {},
   "source": [
    "# **set**\n"
   ]
  },
  {
   "cell_type": "code",
   "execution_count": 9,
   "id": "a5ebd7e5-8a39-4012-81c1-0877bb8c82c7",
   "metadata": {
    "scrolled": true
   },
   "outputs": [
    {
     "name": "stdout",
     "output_type": "stream",
     "text": [
      "{1, 3.7, 4, 'hello', 23, 56, 89}\n"
     ]
    },
    {
     "data": {
      "text/plain": [
       "set"
      ]
     },
     "execution_count": 9,
     "metadata": {},
     "output_type": "execute_result"
    }
   ],
   "source": [
    "s1={1,4,89,23,56,23,3.7,\"hello\",True}\n",
    "print(s1)\n",
    "type(s1)"
   ]
  },
  {
   "cell_type": "markdown",
   "id": "c49220ce-b8bc-427f-9207-4c52df5996d4",
   "metadata": {},
   "source": [
    "1. set is created in culry bracket{}\n",
    "2. set is unorder collection of data type\n",
    "3. set don't contain duplicate items\n",
    "4. set only contain imutable datatype\n",
    "5. we dont apply indexing in a set\n",
    "6. set is immutable data type (set is mutable data type but contains immutable data)"
   ]
  },
  {
   "cell_type": "code",
   "execution_count": 11,
   "id": "e676fc91-7a91-455f-b058-2c88b0d41406",
   "metadata": {},
   "outputs": [
    {
     "name": "stdout",
     "output_type": "stream",
     "text": [
      "{False, True, 3.7, (89, 23, 65), 4, 'hello', 23, 56}\n"
     ]
    },
    {
     "data": {
      "text/plain": [
       "set"
      ]
     },
     "execution_count": 11,
     "metadata": {},
     "output_type": "execute_result"
    }
   ],
   "source": [
    "s1={4,(89,23,65),False,56,23,3.7,\"hello\",True}\n",
    "print(s1)\n",
    "type(s1)"
   ]
  },
  {
   "cell_type": "markdown",
   "id": "8a8cbc3a-35d0-479a-bcec-96c9dd673ba1",
   "metadata": {},
   "source": [
    "# Dictionary"
   ]
  },
  {
   "cell_type": "code",
   "execution_count": 12,
   "id": "a1505b03-c011-46dd-8218-072f0040a831",
   "metadata": {},
   "outputs": [
    {
     "name": "stdout",
     "output_type": "stream",
     "text": [
      "{'key': 'value'}\n"
     ]
    },
    {
     "data": {
      "text/plain": [
       "dict"
      ]
     },
     "execution_count": 12,
     "metadata": {},
     "output_type": "execute_result"
    }
   ],
   "source": [
    "D1={\"key\":\"value\"}\n",
    "print(D1)\n",
    "type(D1)"
   ]
  },
  {
   "cell_type": "code",
   "execution_count": 15,
   "id": "3b20b48d-f3ae-4e98-9057-feede9bec153",
   "metadata": {},
   "outputs": [
    {
     "name": "stdout",
     "output_type": "stream",
     "text": [
      "{'name': 'rohit', 'age': 20, 'contact': 9968298068, 'address': 'Delhi'}\n"
     ]
    }
   ],
   "source": [
    "D2={\n",
    "    \"name\":\"rohit\",\n",
    "    \"age\": 20,\n",
    "    \"contact\":9968298068,\n",
    "    \"address\":\"Delhi\"\n",
    "}\n",
    "print(D2)"
   ]
  },
  {
   "cell_type": "markdown",
   "id": "e6df7df4-3ca5-473b-b7f8-681752e00b83",
   "metadata": {},
   "source": [
    "1. Dictionary is made in{}\n",
    "2. Dictionary is a collection of key value pair when each key is unique and maps to a unique values\n",
    "3. Dictionary is a order collection of data type\n",
    "4. Dictionary key is immutable but value can mutable\n",
    "\n"
   ]
  },
  {
   "cell_type": "code",
   "execution_count": 4,
   "id": "b61e9eba-5bef-4e70-ba00-656d9c58276b",
   "metadata": {},
   "outputs": [
    {
     "name": "stdout",
     "output_type": "stream",
     "text": [
      "[23, 45, 67, 34, 12, 3, 56, 90]\n",
      "(1, 23, 4, 56, 78, 90)\n"
     ]
    }
   ],
   "source": [
    "L1=[23,45,67,34,12,3,56,90]\n",
    "T1=(1,23,4,56,78,90)\n",
    "print(L1)\n",
    "print(T1)"
   ]
  },
  {
   "cell_type": "code",
   "execution_count": 3,
   "id": "6efa939e-239c-40d1-8d17-36fcd10a34cc",
   "metadata": {},
   "outputs": [
    {
     "data": {
      "text/plain": [
       "6"
      ]
     },
     "execution_count": 3,
     "metadata": {},
     "output_type": "execute_result"
    }
   ],
   "source": [
    "# lenght\n",
    "len(T1)"
   ]
  },
  {
   "cell_type": "code",
   "execution_count": 5,
   "id": "dacbb61f-67c9-4602-a499-0321d25708f8",
   "metadata": {},
   "outputs": [
    {
     "name": "stdout",
     "output_type": "stream",
     "text": [
      "23\n",
      "\n"
     ]
    }
   ],
   "source": [
    "# indexing\n",
    "print(L1[0])\n",
    "print()"
   ]
  },
  {
   "cell_type": "code",
   "execution_count": 11,
   "id": "4145c1c7-0f4c-42d8-946a-eaafa3f4ac40",
   "metadata": {},
   "outputs": [
    {
     "name": "stdout",
     "output_type": "stream",
     "text": [
      "23\n",
      "3\n",
      "34\n"
     ]
    }
   ],
   "source": [
    "#  indexing\n",
    "print(L1[0])\n",
    "print(L1[5])\n",
    "print(L1[3])"
   ]
  },
  {
   "cell_type": "code",
   "execution_count": null,
   "id": "be3b961a-177d-4a16-84c4-349be2a00941",
   "metadata": {},
   "outputs": [],
   "source": [
    "# indexing\n",
    "1. positive indexing (left to right-[start with 0 and end=n=1])\n",
    "2. negative indexing (right to left-[start=-1,end=-n])"
   ]
  },
  {
   "cell_type": "code",
   "execution_count": 12,
   "id": "e7e8015f-d7c5-4a1c-ad2b-fdbc331fa97e",
   "metadata": {},
   "outputs": [
    {
     "data": {
      "text/plain": [
       "[23, 45, 67, 34, 12, 3, 56, 90]"
      ]
     },
     "execution_count": 12,
     "metadata": {},
     "output_type": "execute_result"
    }
   ],
   "source": [
    "L1\n"
   ]
  },
  {
   "cell_type": "code",
   "execution_count": 13,
   "id": "c9113aeb-8191-4b55-a9de-795b703da39b",
   "metadata": {},
   "outputs": [
    {
     "data": {
      "text/plain": [
       "45"
      ]
     },
     "execution_count": 13,
     "metadata": {},
     "output_type": "execute_result"
    }
   ],
   "source": [
    "L1[-7]"
   ]
  },
  {
   "cell_type": "code",
   "execution_count": 15,
   "id": "825d988e-2710-4d9c-b74c-62fc71cd9e93",
   "metadata": {},
   "outputs": [],
   "source": [
    "L1[2]=100"
   ]
  },
  {
   "cell_type": "code",
   "execution_count": 16,
   "id": "4ba40eb3-a931-4511-b198-a2da94d90753",
   "metadata": {},
   "outputs": [
    {
     "name": "stdout",
     "output_type": "stream",
     "text": [
      "[23, 45, 100, 34, 12, 3, 56, 90]\n"
     ]
    }
   ],
   "source": [
    "print(L1)"
   ]
  },
  {
   "cell_type": "code",
   "execution_count": 17,
   "id": "6a3fd14a-43e2-4549-8b9b-ae8b01f91bdc",
   "metadata": {},
   "outputs": [
    {
     "name": "stdout",
     "output_type": "stream",
     "text": [
      "[23, 45, 100, 34, 12, 30, 56, 90]\n"
     ]
    }
   ],
   "source": [
    "L1[5]=30\n",
    "print(L1)"
   ]
  },
  {
   "cell_type": "code",
   "execution_count": 19,
   "id": "403084ba-b4f2-49e0-af9c-e50876c2ab8c",
   "metadata": {},
   "outputs": [],
   "source": [
    "L1[-4]=\"HELLO\""
   ]
  },
  {
   "cell_type": "code",
   "execution_count": 20,
   "id": "dcb5ae70-acee-4ca5-ad32-89cdf6c699a7",
   "metadata": {},
   "outputs": [
    {
     "name": "stdout",
     "output_type": "stream",
     "text": [
      "[23, 45, 100, 34, 'HELLO', 30, 56, 90]\n"
     ]
    }
   ],
   "source": [
    "print(L1)"
   ]
  },
  {
   "cell_type": "code",
   "execution_count": 21,
   "id": "3b8c4a4f-cc2d-4022-85cc-db723f82fe54",
   "metadata": {},
   "outputs": [
    {
     "name": "stdout",
     "output_type": "stream",
     "text": [
      "[[1, 2, 3, 4], [5, 6, 7, 8], [9, 10, 11, 12]]\n"
     ]
    },
    {
     "data": {
      "text/plain": [
       "list"
      ]
     },
     "execution_count": 21,
     "metadata": {},
     "output_type": "execute_result"
    }
   ],
   "source": [
    "# 2D LIST\n",
    "L2=[[1,2,3,4],[5,6,7,8],[9,10,11,12]]\n",
    "print(L2)\n",
    "type(L2)"
   ]
  },
  {
   "cell_type": "code",
   "execution_count": 22,
   "id": "223dc03e-cce6-4af5-a22d-5add94c2b6b7",
   "metadata": {},
   "outputs": [
    {
     "data": {
      "text/plain": [
       "3"
      ]
     },
     "execution_count": 22,
     "metadata": {},
     "output_type": "execute_result"
    }
   ],
   "source": [
    "len(L2)"
   ]
  },
  {
   "cell_type": "code",
   "execution_count": 23,
   "id": "e5fef4c6-8db7-406f-9641-4c476581f5ea",
   "metadata": {},
   "outputs": [
    {
     "data": {
      "text/plain": [
       "[1, 2, 3, 4]"
      ]
     },
     "execution_count": 23,
     "metadata": {},
     "output_type": "execute_result"
    }
   ],
   "source": [
    "L2[0]"
   ]
  },
  {
   "cell_type": "code",
   "execution_count": 24,
   "id": "05eb8b66-3569-453b-9b08-9788ce527071",
   "metadata": {},
   "outputs": [
    {
     "data": {
      "text/plain": [
       "1"
      ]
     },
     "execution_count": 24,
     "metadata": {},
     "output_type": "execute_result"
    }
   ],
   "source": [
    "L2[0][0]"
   ]
  },
  {
   "cell_type": "code",
   "execution_count": 25,
   "id": "55b92d5b-e6c7-42ec-9f06-f3263881e2a6",
   "metadata": {},
   "outputs": [
    {
     "data": {
      "text/plain": [
       "[5, 6, 7, 8]"
      ]
     },
     "execution_count": 25,
     "metadata": {},
     "output_type": "execute_result"
    }
   ],
   "source": [
    "L2[-2]"
   ]
  },
  {
   "cell_type": "code",
   "execution_count": 26,
   "id": "29f22284-c0ef-477b-a582-fba4df5e0d98",
   "metadata": {},
   "outputs": [],
   "source": [
    "# string\n",
    "S1= 'HELLO PYTHON'\n",
    "S2= \"HELLO PYTHON\"\n",
    "S3='''HELLO PYTHON'''\n",
    "S4=\"\"\"HELLO PYTHON\"\"\""
   ]
  },
  {
   "cell_type": "code",
   "execution_count": 27,
   "id": "0e3bacaf-ede3-4b05-933d-51e5e837f2e5",
   "metadata": {},
   "outputs": [
    {
     "name": "stdout",
     "output_type": "stream",
     "text": [
      "HELLO PYTHON\n",
      "HELLO PYTHON\n",
      "HELLO PYTHON\n",
      "HELLO PYTHON\n"
     ]
    }
   ],
   "source": [
    "print(S1)\n",
    "print(S2)\n",
    "print(S3)\n",
    "print(S4)"
   ]
  },
  {
   "cell_type": "code",
   "execution_count": 29,
   "id": "f9d7acbe-4628-4f55-aa3e-a33d6404743d",
   "metadata": {},
   "outputs": [
    {
     "name": "stdout",
     "output_type": "stream",
     "text": [
      "it's a pyhton class\n"
     ]
    }
   ],
   "source": [
    "S2=\"it's a pyhton class\"\n",
    "print(S2)"
   ]
  },
  {
   "cell_type": "code",
   "execution_count": 30,
   "id": "92bbe6fc-da8a-434e-a408-b22900b73c86",
   "metadata": {},
   "outputs": [
    {
     "name": "stdout",
     "output_type": "stream",
     "text": [
      "ankita said \"i am hungry.\"\n"
     ]
    }
   ],
   "source": [
    "S3='ankita said \"i am hungry.\"'\n",
    "print(S3)"
   ]
  },
  {
   "cell_type": "code",
   "execution_count": 34,
   "id": "2f375249-4a94-4b34-920e-a008119a58ba",
   "metadata": {},
   "outputs": [
    {
     "name": "stdout",
     "output_type": "stream",
     "text": [
      "The NCWEB 2025 Special Cut Off was released on August 18, 2025, typically\n",
      "between 4 PM and 8 PM IST, though the process spanned several hours on that day. You can check the official cut-off list on the\n"
     ]
    }
   ],
   "source": [
    "S4='''The NCWEB 2025 Special Cut Off was released on August 18, 2025, typically\n",
    "between 4 PM and 8 PM IST, though the process spanned several hours on that day. You can check the official cut-off list on the'''\n",
    "print(S4)"
   ]
  },
  {
   "cell_type": "code",
   "execution_count": 35,
   "id": "d418e63b-2036-410f-9529-2fb6eb44c4df",
   "metadata": {},
   "outputs": [
    {
     "name": "stdout",
     "output_type": "stream",
     "text": [
      "it's a python class\n",
      "19\n"
     ]
    }
   ],
   "source": [
    "S2=\"it's a python class\"\n",
    "print(S2)\n",
    "print(len(S2))"
   ]
  },
  {
   "cell_type": "code",
   "execution_count": 36,
   "id": "540c299d-7fce-4589-b49e-2ef5455496e3",
   "metadata": {},
   "outputs": [
    {
     "data": {
      "text/plain": [
       "'c'"
      ]
     },
     "execution_count": 36,
     "metadata": {},
     "output_type": "execute_result"
    }
   ],
   "source": [
    "S2[-5]"
   ]
  },
  {
   "cell_type": "code",
   "execution_count": 39,
   "id": "d62e6b8c-94d9-4d6d-8ef8-fa185b44e2d7",
   "metadata": {},
   "outputs": [
    {
     "name": "stdout",
     "output_type": "stream",
     "text": [
      "{True, 34, 35, 36, 5, 'hello', 56}\n"
     ]
    }
   ],
   "source": [
    "S1={\"hello\",34,35,36,5,56,True}\n",
    "print(S1)\n"
   ]
  },
  {
   "cell_type": "markdown",
   "id": "441a6d23-036c-4fd5-a0c8-8486b6025531",
   "metadata": {},
   "source": [
    "# dictionary"
   ]
  },
  {
   "cell_type": "code",
   "execution_count": 24,
   "id": "19b96b08-3c8d-4b4d-bfe1-5c7d56d157a4",
   "metadata": {},
   "outputs": [
    {
     "name": "stdout",
     "output_type": "stream",
     "text": [
      "{'A': 10, 'B': 20, 'C': 30, 'D': 40}\n",
      "<class 'dict'>\n",
      "4\n"
     ]
    }
   ],
   "source": [
    "D1={'A':10,'B' :20,'C':30, 'D':40}\n",
    "print(D1)\n",
    "print(type(D1))\n",
    "print(len(D1))\n"
   ]
  },
  {
   "cell_type": "code",
   "execution_count": 41,
   "id": "768c8daa-c905-422b-9f29-95655ff9f517",
   "metadata": {},
   "outputs": [
    {
     "data": {
      "text/plain": [
       "10"
      ]
     },
     "execution_count": 41,
     "metadata": {},
     "output_type": "execute_result"
    }
   ],
   "source": [
    "D1[\"A\"]\n"
   ]
  },
  {
   "cell_type": "code",
   "execution_count": 25,
   "id": "0803d601-0c44-4cb4-8e38-4345ec076af6",
   "metadata": {},
   "outputs": [
    {
     "data": {
      "text/plain": [
       "30"
      ]
     },
     "execution_count": 25,
     "metadata": {},
     "output_type": "execute_result"
    }
   ],
   "source": [
    "D1[\"C\"] "
   ]
  },
  {
   "cell_type": "code",
   "execution_count": 26,
   "id": "3f705c45-b768-4862-8ff6-9ee5d7191d21",
   "metadata": {},
   "outputs": [
    {
     "data": {
      "text/plain": [
       "40"
      ]
     },
     "execution_count": 26,
     "metadata": {},
     "output_type": "execute_result"
    }
   ],
   "source": [
    "D1[\"D\"]"
   ]
  },
  {
   "cell_type": "code",
   "execution_count": 48,
   "id": "6183b25e-7673-435c-81fa-34414d032d7c",
   "metadata": {},
   "outputs": [
    {
     "name": "stdout",
     "output_type": "stream",
     "text": [
      "{'name': ['anish', 'kunal', 'monika'], 'age': [20, 22, 21], 'address': ['delhi', 'mumbai', 'kolkata']}\n"
     ]
    }
   ],
   "source": [
    "D2={\n",
    "    'name':[\"anish\",'kunal','monika'],\n",
    "     'age':[20,22,21],\n",
    "      'address':['delhi','mumbai','kolkata']\n",
    "}\n",
    "print(D2)"
   ]
  },
  {
   "cell_type": "code",
   "execution_count": 49,
   "id": "660d9602-d68f-45d2-9cec-84c9380df3e5",
   "metadata": {},
   "outputs": [
    {
     "data": {
      "text/plain": [
       "['anish', 'kunal', 'monika']"
      ]
     },
     "execution_count": 49,
     "metadata": {},
     "output_type": "execute_result"
    }
   ],
   "source": [
    "D2['name']"
   ]
  },
  {
   "cell_type": "code",
   "execution_count": 50,
   "id": "113f287f-cf2f-4fd5-80cb-c75c733dd2ba",
   "metadata": {},
   "outputs": [
    {
     "data": {
      "text/plain": [
       "[20, 22, 21]"
      ]
     },
     "execution_count": 50,
     "metadata": {},
     "output_type": "execute_result"
    }
   ],
   "source": [
    "D2['age']"
   ]
  },
  {
   "cell_type": "code",
   "execution_count": 51,
   "id": "84dd410e-ee97-421f-a9c0-4965bbca796f",
   "metadata": {},
   "outputs": [
    {
     "data": {
      "text/plain": [
       "'kunal'"
      ]
     },
     "execution_count": 51,
     "metadata": {},
     "output_type": "execute_result"
    }
   ],
   "source": [
    "D2['name'][1]"
   ]
  },
  {
   "cell_type": "code",
   "execution_count": 53,
   "id": "91d3dc6d-dac8-42cb-959e-7c33653315ea",
   "metadata": {},
   "outputs": [],
   "source": [
    "D2['name'][1]=\"ridhima\""
   ]
  },
  {
   "cell_type": "code",
   "execution_count": 54,
   "id": "3c46ccf7-ca35-4015-ac26-2a1820e3146e",
   "metadata": {},
   "outputs": [
    {
     "name": "stdout",
     "output_type": "stream",
     "text": [
      "{'name': ['anish', 'ridhima', 'monika'], 'age': [20, 22, 21], 'address': ['delhi', 'mumbai', 'kolkata']}\n"
     ]
    }
   ],
   "source": [
    "print(D2)"
   ]
  },
  {
   "cell_type": "markdown",
   "id": "10f506d9-4068-4d68-91c5-6b53397b7410",
   "metadata": {},
   "source": [
    "# WEDNESDAY 27/08/2025"
   ]
  },
  {
   "cell_type": "code",
   "execution_count": 1,
   "id": "2d50d675-9f64-4803-82b1-adc53157bcda",
   "metadata": {},
   "outputs": [
    {
     "name": "stdout",
     "output_type": "stream",
     "text": [
      "hello pyhton\n"
     ]
    }
   ],
   "source": [
    "print(\"hello pyhton\")"
   ]
  },
  {
   "cell_type": "code",
   "execution_count": 2,
   "id": "dde8efcd-383f-42a0-bf02-689db53f10aa",
   "metadata": {},
   "outputs": [
    {
     "name": "stdout",
     "output_type": "stream",
     "text": [
      "50\n"
     ]
    }
   ],
   "source": [
    "print(30+20)"
   ]
  },
  {
   "cell_type": "code",
   "execution_count": null,
   "id": "be1b212e-9ebd-41a0-8b84-41277d3fd0c1",
   "metadata": {},
   "outputs": [],
   "source": [
    "# comment\n",
    "# multiline comment\n"
   ]
  },
  {
   "cell_type": "code",
   "execution_count": 2,
   "id": "b6403405-7203-476e-81a7-b57652547e0d",
   "metadata": {},
   "outputs": [],
   "source": [
    "# variable\n",
    "name = \"ridhima\"\n",
    "contact = 9968298068"
   ]
  },
  {
   "cell_type": "code",
   "execution_count": 3,
   "id": "bda6a0df-efe3-41aa-a51a-355e3159d682",
   "metadata": {},
   "outputs": [
    {
     "name": "stdout",
     "output_type": "stream",
     "text": [
      "ridhima\n",
      "9968298068\n"
     ]
    }
   ],
   "source": [
    "print (name)\n",
    "print (contact)"
   ]
  },
  {
   "cell_type": "code",
   "execution_count": 1,
   "id": "a950ee6c-68e7-4f38-a0db-6db80ee4a206",
   "metadata": {},
   "outputs": [
    {
     "name": "stdout",
     "output_type": "stream",
     "text": [
      "ridhima sharma\n"
     ]
    }
   ],
   "source": [
    "full_name = \"ridhima sharma\"\n",
    "print(full_name)"
   ]
  },
  {
   "cell_type": "code",
   "execution_count": 2,
   "id": "945385e3-cf4d-42d5-b1e0-7866796c3093",
   "metadata": {},
   "outputs": [],
   "source": [
    "a1=10"
   ]
  },
  {
   "cell_type": "code",
   "execution_count": 3,
   "id": "6f870a1b-79af-4593-9a15-4c5bf6af7359",
   "metadata": {},
   "outputs": [],
   "source": [
    "_a=20"
   ]
  },
  {
   "cell_type": "code",
   "execution_count": 4,
   "id": "953ec5d5-10a3-47c8-a2fe-a251a9cd75f5",
   "metadata": {},
   "outputs": [],
   "source": [
    "# literals\n",
    "\n",
    "a=10 # integer literals\n",
    "s=\"hello\" # string literals"
   ]
  },
  {
   "cell_type": "markdown",
   "id": "d8a33295-3dab-49a8-b3c2-bb4e67ed8146",
   "metadata": {},
   "source": [
    "# data types\n",
    "1. **intger**\n",
    "2. **float**\n",
    "3. **string**\n",
    "4. **boolen**\n",
    "5. **complex**\n",
    "6. **list**\n",
    "7. **tuple**\n",
    "8. **set**\n",
    "9. **dictionary**\n",
    "10. **None**\n",
    "11. **function**\n",
    "12. **array**\n",
    "13. **class**"
   ]
  },
  {
   "cell_type": "code",
   "execution_count": 5,
   "id": "0ca02067-757e-495d-ae04-574208c0ca7f",
   "metadata": {},
   "outputs": [
    {
     "name": "stdout",
     "output_type": "stream",
     "text": [
      "(5+3j)\n",
      "<class 'complex'>\n"
     ]
    }
   ],
   "source": [
    "a=5+3j\n",
    "print(a)\n",
    "print(type(a))"
   ]
  },
  {
   "cell_type": "code",
   "execution_count": 6,
   "id": "02d04a80-3113-46f7-b99c-db2f34f0bbde",
   "metadata": {},
   "outputs": [
    {
     "name": "stdout",
     "output_type": "stream",
     "text": [
      "True\n",
      "<class 'bool'>\n"
     ]
    }
   ],
   "source": [
    "x=True\n",
    "y=False\n",
    "print(x)\n",
    "print(type(x))"
   ]
  },
  {
   "cell_type": "markdown",
   "id": "10f32a77-78a4-41aa-b69b-2adbacd0a2f9",
   "metadata": {},
   "source": [
    "# Number System\n",
    "1. **Binary number system** (0,1) base-2\n",
    "2. **Octal number system** (0,1,2,3,4,5,6,7) base-8\n",
    "3. **Decimal number system** (0,1,2,3,4,5,6,7,8,9) base-10\n",
    "4. **HexaDecimal number system** (0,1,2,3,4,5,6,7,8,9,A,B,C,D,E,F) base-16"
   ]
  },
  {
   "cell_type": "code",
   "execution_count": 7,
   "id": "aaed75dc-4c7d-45d4-9322-357e25177885",
   "metadata": {},
   "outputs": [],
   "source": [
    "number= {0,1,2,3,4,5,6,7,8,9}"
   ]
  },
  {
   "cell_type": "code",
   "execution_count": 8,
   "id": "0c19542e-3e96-4888-9e9f-608a10907cb2",
   "metadata": {},
   "outputs": [
    {
     "data": {
      "text/plain": [
       "'0b100100'"
      ]
     },
     "execution_count": 8,
     "metadata": {},
     "output_type": "execute_result"
    }
   ],
   "source": [
    "# DECIMAL TO BINARY\n",
    "n=36\n",
    "bin(n)"
   ]
  },
  {
   "cell_type": "code",
   "execution_count": 10,
   "id": "1d704092-e57b-44cc-9369-19e6bf498139",
   "metadata": {},
   "outputs": [
    {
     "data": {
      "text/plain": [
       "21"
      ]
     },
     "execution_count": 10,
     "metadata": {},
     "output_type": "execute_result"
    }
   ],
   "source": [
    "# BINARY to decimal\n",
    "n='10101'\n",
    "int(n,2)"
   ]
  },
  {
   "cell_type": "code",
   "execution_count": 11,
   "id": "fc28377e-d579-4f9d-a1d8-19bfaa4a683b",
   "metadata": {},
   "outputs": [
    {
     "data": {
      "text/plain": [
       "27"
      ]
     },
     "execution_count": 11,
     "metadata": {},
     "output_type": "execute_result"
    }
   ],
   "source": [
    "n='11011'\n",
    "\n",
    "int(n,2)"
   ]
  },
  {
   "cell_type": "code",
   "execution_count": 12,
   "id": "eb9bb9af-8077-4a5d-abb6-19bc313f2cca",
   "metadata": {},
   "outputs": [
    {
     "data": {
      "text/plain": [
       "27"
      ]
     },
     "execution_count": 12,
     "metadata": {},
     "output_type": "execute_result"
    }
   ],
   "source": [
    "0b11011"
   ]
  },
  {
   "cell_type": "code",
   "execution_count": 13,
   "id": "b4e6743b-fc55-4fc0-8994-9f8225c3e81c",
   "metadata": {},
   "outputs": [
    {
     "data": {
      "text/plain": [
       "103907"
      ]
     },
     "execution_count": 13,
     "metadata": {},
     "output_type": "execute_result"
    }
   ],
   "source": [
    "0b11001010111100011"
   ]
  },
  {
   "cell_type": "code",
   "execution_count": 14,
   "id": "25de88d7-b6b2-4475-abc4-1b6117bb673c",
   "metadata": {},
   "outputs": [
    {
     "data": {
      "text/plain": [
       "'0o55673'"
      ]
     },
     "execution_count": 14,
     "metadata": {},
     "output_type": "execute_result"
    }
   ],
   "source": [
    "# decimal to Octal\n",
    "n=23483\n",
    "oct(n)"
   ]
  },
  {
   "cell_type": "code",
   "execution_count": 15,
   "id": "18ab1dd0-3a27-45b3-b09c-9175ea94914d",
   "metadata": {},
   "outputs": [
    {
     "data": {
      "text/plain": [
       "23483"
      ]
     },
     "execution_count": 15,
     "metadata": {},
     "output_type": "execute_result"
    }
   ],
   "source": [
    "# Octal to binary\n",
    "v='55673'\n",
    "int(v,8)"
   ]
  },
  {
   "cell_type": "code",
   "execution_count": 16,
   "id": "bc7d0365-d6cd-4785-842b-7421840252d1",
   "metadata": {},
   "outputs": [
    {
     "data": {
      "text/plain": [
       "4095"
      ]
     },
     "execution_count": 16,
     "metadata": {},
     "output_type": "execute_result"
    }
   ],
   "source": [
    "0o7777"
   ]
  },
  {
   "cell_type": "code",
   "execution_count": 17,
   "id": "5d8f33cf-571b-4596-b1eb-6985d97cc2c0",
   "metadata": {},
   "outputs": [
    {
     "data": {
      "text/plain": [
       "'0x5daf'"
      ]
     },
     "execution_count": 17,
     "metadata": {},
     "output_type": "execute_result"
    }
   ],
   "source": [
    "# decimal to hexadecimal\n",
    "n=23983\n",
    "hex(n)"
   ]
  },
  {
   "cell_type": "code",
   "execution_count": 18,
   "id": "ffed9915-ee72-43d0-8c8c-70312a9fdb39",
   "metadata": {},
   "outputs": [
    {
     "data": {
      "text/plain": [
       "43981"
      ]
     },
     "execution_count": 18,
     "metadata": {},
     "output_type": "execute_result"
    }
   ],
   "source": [
    "# hexadecimal to Decimal\n",
    "\n",
    "x='abcd'\n",
    "int(x,16)"
   ]
  },
  {
   "cell_type": "code",
   "execution_count": 19,
   "id": "201e7f3a-b5c8-43ca-b57f-fe246f2401ec",
   "metadata": {},
   "outputs": [
    {
     "data": {
      "text/plain": [
       "1193903"
      ]
     },
     "execution_count": 19,
     "metadata": {},
     "output_type": "execute_result"
    }
   ],
   "source": [
    "0x1237af"
   ]
  },
  {
   "cell_type": "code",
   "execution_count": 20,
   "id": "6c5a7ad1-2d59-456f-8fd6-5edbcccde13e",
   "metadata": {},
   "outputs": [
    {
     "name": "stdout",
     "output_type": "stream",
     "text": [
      "0xd68\n"
     ]
    }
   ],
   "source": [
    "pin=hex(3432)\n",
    "print(pin)"
   ]
  },
  {
   "cell_type": "markdown",
   "id": "20ba0483-09af-4dd4-af4a-e39cc35019a8",
   "metadata": {},
   "source": [
    "# THURSDAY 28/08/2025"
   ]
  },
  {
   "cell_type": "code",
   "execution_count": 1,
   "id": "777e8a33-7df1-4e49-ae0b-7f5116ff2240",
   "metadata": {},
   "outputs": [
    {
     "name": "stdout",
     "output_type": "stream",
     "text": [
      "[23, 24, 25, 66, 45, 'ABCD', True]\n",
      "<class 'list'>\n"
     ]
    },
    {
     "data": {
      "text/plain": [
       "7"
      ]
     },
     "execution_count": 1,
     "metadata": {},
     "output_type": "execute_result"
    }
   ],
   "source": [
    "# List\n",
    "L = [23,24,25,66,45,\"ABCD\",True]\n",
    "print(L)\n",
    "print(type(L))\n",
    "len(L)"
   ]
  },
  {
   "cell_type": "markdown",
   "id": "52290956-f651-4961-9cfd-fd639ca748ab",
   "metadata": {},
   "source": [
    "# OPERATORS\n",
    "# 1. ARTHEMATIC OPERATORS\n",
    "  - Addition('+')\n",
    "  - Subtraction('-')\n",
    "  - Multiply('*')\n",
    "  - Divide('/')\n",
    "  - Modulus('%')\n",
    "  - Floor division('//')\n",
    "  - Exponential('**')"
   ]
  },
  {
   "cell_type": "code",
   "execution_count": 4,
   "id": "8f36eee9-83ba-44e1-9ef5-c88eaa646457",
   "metadata": {},
   "outputs": [
    {
     "name": "stdout",
     "output_type": "stream",
     "text": [
      "30\n",
      "-10\n",
      "200\n",
      "0.5\n",
      "10\n",
      "0\n",
      "100000000000000000000\n"
     ]
    }
   ],
   "source": [
    "a=10\n",
    "b=20\n",
    "print(a+b)\n",
    "print(a-b)\n",
    "print(a*b)\n",
    "print(a/b)\n",
    "print(a%b)\n",
    "print(a//b)\n",
    "print(a**b)"
   ]
  },
  {
   "cell_type": "code",
   "execution_count": 27,
   "id": "ff72ad34-28c0-48b6-ac38-27bf6063e9d5",
   "metadata": {},
   "outputs": [
    {
     "data": {
      "text/plain": [
       "4.75"
      ]
     },
     "execution_count": 27,
     "metadata": {},
     "output_type": "execute_result"
    }
   ],
   "source": [
    "19/4"
   ]
  },
  {
   "cell_type": "code",
   "execution_count": 28,
   "id": "30a729b7-c088-4d57-9250-29da52c2d892",
   "metadata": {},
   "outputs": [
    {
     "data": {
      "text/plain": [
       "3"
      ]
     },
     "execution_count": 28,
     "metadata": {},
     "output_type": "execute_result"
    }
   ],
   "source": [
    "19%4"
   ]
  },
  {
   "cell_type": "code",
   "execution_count": 30,
   "id": "a14bc6b9-7370-4cfb-87d2-9635798b5467",
   "metadata": {},
   "outputs": [
    {
     "data": {
      "text/plain": [
       "237482.7"
      ]
     },
     "execution_count": 30,
     "metadata": {},
     "output_type": "execute_result"
    }
   ],
   "source": [
    "2374827/10"
   ]
  },
  {
   "cell_type": "code",
   "execution_count": 32,
   "id": "90d9638a-1a2e-4efc-8e26-9310216dcecd",
   "metadata": {},
   "outputs": [
    {
     "data": {
      "text/plain": [
       "True"
      ]
     },
     "execution_count": 32,
     "metadata": {},
     "output_type": "execute_result"
    }
   ],
   "source": [
    "234%2==0 (IF THE NUMBER IS EVEN IT WILL SHOW TRUE (LIKE 234))"
   ]
  },
  {
   "cell_type": "code",
   "execution_count": 33,
   "id": "03d31221-c26c-40f4-9d8f-320531af1214",
   "metadata": {},
   "outputs": [
    {
     "data": {
      "text/plain": [
       "False"
      ]
     },
     "execution_count": 33,
     "metadata": {},
     "output_type": "execute_result"
    }
   ],
   "source": [
    "231%2==0 (IF THE NUMBER IS ODD IT WILL SHOW TRUE (LIKE 231))"
   ]
  },
  {
   "cell_type": "code",
   "execution_count": 34,
   "id": "d0034154-efb1-4c87-b6df-63b05e4f50ea",
   "metadata": {},
   "outputs": [
    {
     "data": {
      "text/plain": [
       "4.75"
      ]
     },
     "execution_count": 34,
     "metadata": {},
     "output_type": "execute_result"
    }
   ],
   "source": [
    "19/4"
   ]
  },
  {
   "cell_type": "code",
   "execution_count": 35,
   "id": "94130e66-79a4-4ae7-8de0-3617d33245fe",
   "metadata": {},
   "outputs": [
    {
     "data": {
      "text/plain": [
       "4"
      ]
     },
     "execution_count": 35,
     "metadata": {},
     "output_type": "execute_result"
    }
   ],
   "source": [
    "19//4"
   ]
  },
  {
   "cell_type": "code",
   "execution_count": 36,
   "id": "aa5dc8e3-fb34-4dc5-891a-985bf3749b29",
   "metadata": {},
   "outputs": [
    {
     "data": {
      "text/plain": [
       "343"
      ]
     },
     "execution_count": 36,
     "metadata": {},
     "output_type": "execute_result"
    }
   ],
   "source": [
    "3432//10"
   ]
  },
  {
   "cell_type": "code",
   "execution_count": 37,
   "id": "c3e70b75-3f54-486c-b541-8fb55b904e72",
   "metadata": {},
   "outputs": [
    {
     "data": {
      "text/plain": [
       "8"
      ]
     },
     "execution_count": 37,
     "metadata": {},
     "output_type": "execute_result"
    }
   ],
   "source": [
    "2**3"
   ]
  },
  {
   "cell_type": "code",
   "execution_count": 38,
   "id": "b8d27111-9024-4302-bcde-28b778915485",
   "metadata": {},
   "outputs": [
    {
     "data": {
      "text/plain": [
       "6"
      ]
     },
     "execution_count": 38,
     "metadata": {},
     "output_type": "execute_result"
    }
   ],
   "source": [
    "2*3"
   ]
  },
  {
   "cell_type": "code",
   "execution_count": 39,
   "id": "20f078c8-69a6-4c76-8e60-9691e827bd82",
   "metadata": {},
   "outputs": [
    {
     "data": {
      "text/plain": [
       "50"
      ]
     },
     "execution_count": 39,
     "metadata": {},
     "output_type": "execute_result"
    }
   ],
   "source": [
    "10*5 (USE FOR MULTIP#LICATION)"
   ]
  },
  {
   "cell_type": "code",
   "execution_count": 40,
   "id": "ae81d735-0f14-411c-8cc9-d208134174d0",
   "metadata": {},
   "outputs": [
    {
     "data": {
      "text/plain": [
       "100000"
      ]
     },
     "execution_count": 40,
     "metadata": {},
     "output_type": "execute_result"
    }
   ],
   "source": [
    "10**5 (USE FOR POWER LIKE ROOT)"
   ]
  },
  {
   "cell_type": "markdown",
   "id": "6a77c232-fc8b-4834-82f8-e223198d739b",
   "metadata": {},
   "source": [
    "# Assigment Opreators:\n",
    "1. = (assigment)\n",
    "2. += (Add and assign)\n",
    "3. -=(Subtract and assign)\n",
    "4. *=(multiply and assign)\n",
    "5. /=(Divide and assign)\n",
    "6. %=(modulus and assign)\n",
    "7. //=(Floor divide and assign)\n",
    "8. **=(Exponent and assign)"
   ]
  },
  {
   "cell_type": "code",
   "execution_count": 42,
   "id": "1a174044-af20-4371-8150-889bd820c6bf",
   "metadata": {},
   "outputs": [
    {
     "name": "stdout",
     "output_type": "stream",
     "text": [
      "10\n"
     ]
    }
   ],
   "source": [
    "a=10\n",
    "print(a)"
   ]
  },
  {
   "cell_type": "code",
   "execution_count": 60,
   "id": "7457dad3-4626-4f8e-9b59-bc3e9ed4d06b",
   "metadata": {},
   "outputs": [
    {
     "name": "stdout",
     "output_type": "stream",
     "text": [
      "after : 10\n",
      "before : 15\n"
     ]
    }
   ],
   "source": [
    "a=10 \n",
    "print(\"after :\",a)\n",
    "a +=5\n",
    "print(\"before :\",a)"
   ]
  },
  {
   "cell_type": "code",
   "execution_count": 46,
   "id": "682932e5-d890-4d11-ba43-d9a343578f95",
   "metadata": {},
   "outputs": [
    {
     "name": "stdout",
     "output_type": "stream",
     "text": [
      "20\n"
     ]
    }
   ],
   "source": [
    "a+=10\n",
    "print(a)"
   ]
  },
  {
   "cell_type": "code",
   "execution_count": 51,
   "id": "87d1b2b7-9728-482f-a5c3-26af08f3cb0d",
   "metadata": {},
   "outputs": [
    {
     "name": "stdout",
     "output_type": "stream",
     "text": [
      "41\n"
     ]
    }
   ],
   "source": [
    "a +=2\n",
    "print(a)"
   ]
  },
  {
   "cell_type": "code",
   "execution_count": 52,
   "id": "05df036b-b8e8-43a7-a306-31722965c25f",
   "metadata": {},
   "outputs": [
    {
     "name": "stdout",
     "output_type": "stream",
     "text": [
      "38\n"
     ]
    }
   ],
   "source": [
    "a -=3\n",
    "print(a)"
   ]
  },
  {
   "cell_type": "code",
   "execution_count": 53,
   "id": "700fe508-0114-4167-98eb-ca1430709080",
   "metadata": {},
   "outputs": [
    {
     "name": "stdout",
     "output_type": "stream",
     "text": [
      "152\n"
     ]
    }
   ],
   "source": [
    "a *=4\n",
    "print(a)"
   ]
  },
  {
   "cell_type": "code",
   "execution_count": 54,
   "id": "82785e24-c8f3-40c1-be94-560a7e0664da",
   "metadata": {},
   "outputs": [
    {
     "name": "stdout",
     "output_type": "stream",
     "text": [
      "38.0\n"
     ]
    }
   ],
   "source": [
    "a /=4\n",
    "print(a)"
   ]
  },
  {
   "cell_type": "code",
   "execution_count": 55,
   "id": "eb1559fc-ff87-4a82-8229-4afe81c8ccaa",
   "metadata": {},
   "outputs": [
    {
     "name": "stdout",
     "output_type": "stream",
     "text": [
      "6.0\n"
     ]
    }
   ],
   "source": [
    "a %=8\n",
    "print(a)"
   ]
  },
  {
   "cell_type": "code",
   "execution_count": 57,
   "id": "86393947-5df3-4893-95d7-3891a09a112a",
   "metadata": {},
   "outputs": [
    {
     "name": "stdout",
     "output_type": "stream",
     "text": [
      "3.0\n"
     ]
    }
   ],
   "source": [
    "a //=2\n",
    "print(a)"
   ]
  },
  {
   "cell_type": "code",
   "execution_count": 58,
   "id": "7d28712f-915e-4e9d-b314-a617c993c398",
   "metadata": {},
   "outputs": [
    {
     "name": "stdout",
     "output_type": "stream",
     "text": [
      "59049.0\n"
     ]
    }
   ],
   "source": [
    "a **=10\n",
    "print(a)"
   ]
  },
  {
   "cell_type": "markdown",
   "id": "1adfa62b-5445-4613-8e8b-369ace10b374",
   "metadata": {},
   "source": [
    "# comparison opreators:\n",
    "-  `==` **(Equal to)**\n",
    "-  `!=` **(Not equal to)**\n",
    "-  `>`  **(Greater than)**\n",
    "-  `<`  **(less than)**      \n",
    "-  `>=` **(Greater than or eqaul to)**\n",
    "-  `<=` **(less than or equal to)**      "
   ]
  },
  {
   "cell_type": "code",
   "execution_count": 61,
   "id": "ddc0904f-c468-4c4d-ab09-15310dfcf2e9",
   "metadata": {},
   "outputs": [
    {
     "name": "stdout",
     "output_type": "stream",
     "text": [
      "False\n",
      "True\n",
      "False\n",
      "True\n"
     ]
    }
   ],
   "source": [
    "a=10\n",
    "b=20\n",
    "print(a==b)\n",
    "print(a!=b)\n",
    "print(a>b)\n",
    "print(a<b)\n"
   ]
  },
  {
   "cell_type": "code",
   "execution_count": 62,
   "id": "f35c23d1-2873-4cc4-a06a-e8656b5593ef",
   "metadata": {},
   "outputs": [
    {
     "name": "stdout",
     "output_type": "stream",
     "text": [
      "True\n",
      "True\n"
     ]
    }
   ],
   "source": [
    "age=18\n",
    "print(age>=18)\n",
    "print(age<=18)"
   ]
  },
  {
   "cell_type": "markdown",
   "id": "b9aed769-4e56-4cf2-89bd-ca1f81e1ed34",
   "metadata": {},
   "source": [
    "- **logical opreator**\n",
    "- **membership opreator**\n",
    "- **identity opreator**\n",
    "- **bitwise opreator**\n"
   ]
  },
  {
   "cell_type": "code",
   "execution_count": 3,
   "id": "8cb741e2-da92-4a98-8105-9b58a63be2fd",
   "metadata": {},
   "outputs": [
    {
     "name": "stdout",
     "output_type": "stream",
     "text": [
      "[[1, 2, 3, 4], [5, 6, 7], [8, 9, 10, 11]]\n",
      "3\n"
     ]
    }
   ],
   "source": [
    "L=[[1,2,3,4],[5,6,7],[8,9,10,11]]\n",
    "print(L)\n",
    "print(len(L))"
   ]
  },
  {
   "cell_type": "code",
   "execution_count": 4,
   "id": "3273fbda-d8a0-4b69-9ef3-65f70654764e",
   "metadata": {},
   "outputs": [
    {
     "data": {
      "text/plain": [
       "3"
      ]
     },
     "execution_count": 4,
     "metadata": {},
     "output_type": "execute_result"
    }
   ],
   "source": [
    "L[0][2]"
   ]
  },
  {
   "cell_type": "code",
   "execution_count": 5,
   "id": "fbac845f-5961-43c6-a760-b2f8bbad15be",
   "metadata": {},
   "outputs": [
    {
     "data": {
      "text/plain": [
       "3"
      ]
     },
     "execution_count": 5,
     "metadata": {},
     "output_type": "execute_result"
    }
   ],
   "source": [
    "L[-3][-2]"
   ]
  },
  {
   "cell_type": "code",
   "execution_count": 8,
   "id": "2b446836-590e-475e-9eed-a5f156df3b0d",
   "metadata": {},
   "outputs": [],
   "source": [
    "D={\n",
    "    \"NAME\":[\"rahul\",\"kajal\",\"rohan\",\"salini\"],\n",
    "    \"age\":[23,32,27,25],\n",
    " \"address\":[\"noida\",\"ranchi\",\"goa\",\"delhi\"]\n",
    "}"
   ]
  },
  {
   "cell_type": "code",
   "execution_count": 9,
   "id": "d2a2a7b8-fc9a-4b19-bcda-5fe9295ff109",
   "metadata": {},
   "outputs": [],
   "source": [
    "D['address'][1]=\"usa\""
   ]
  },
  {
   "cell_type": "code",
   "execution_count": 10,
   "id": "c3cc243e-2c21-4048-b588-7efa3b798f3f",
   "metadata": {},
   "outputs": [
    {
     "name": "stdout",
     "output_type": "stream",
     "text": [
      "{'NAME': ['rahul', 'kajal', 'rohan', 'salini'], 'age': [23, 32, 27, 25], 'address': ['noida', 'usa', 'goa', 'delhi']}\n"
     ]
    }
   ],
   "source": [
    "print(D)"
   ]
  },
  {
   "cell_type": "markdown",
   "id": "6b8eae6f-0772-4112-9e51-bcfb8fd20268",
   "metadata": {},
   "source": [
    "# logical operators\n",
    "- **and**\n",
    "- **or**\n",
    "- **not**"
   ]
  },
  {
   "cell_type": "code",
   "execution_count": 13,
   "id": "cfd346c1-6919-4d58-af3f-3de727e84ef9",
   "metadata": {},
   "outputs": [
    {
     "data": {
      "text/plain": [
       "False"
      ]
     },
     "execution_count": 13,
     "metadata": {},
     "output_type": "execute_result"
    }
   ],
   "source": [
    "a=10\n",
    "b=20\n",
    "c=30\n",
    "\n",
    "a>b and a>c"
   ]
  },
  {
   "cell_type": "code",
   "execution_count": 12,
   "id": "9e2db0e7-d074-4c54-b4f8-a090309e49f7",
   "metadata": {},
   "outputs": [
    {
     "name": "stdout",
     "output_type": "stream",
     "text": [
      "True\n",
      "False\n",
      "False\n",
      "False\n"
     ]
    }
   ],
   "source": [
    "# AND\n",
    "print (True and True)\n",
    "print (True and False)\n",
    "print (False and True)\n",
    "print (False and False)"
   ]
  },
  {
   "cell_type": "code",
   "execution_count": 14,
   "id": "d2bd1184-a0bf-4619-8ff0-f6e34fec4ad6",
   "metadata": {},
   "outputs": [
    {
     "name": "stdout",
     "output_type": "stream",
     "text": [
      "True\n",
      "True\n",
      "True\n",
      "False\n"
     ]
    }
   ],
   "source": [
    "# OR\n",
    "print (True or True)\n",
    "print (True or False)\n",
    "print (False or True)\n",
    "print (False or False)"
   ]
  },
  {
   "cell_type": "code",
   "execution_count": 15,
   "id": "1800e0de-d096-4d91-a162-388a1ace3164",
   "metadata": {},
   "outputs": [
    {
     "data": {
      "text/plain": [
       "False"
      ]
     },
     "execution_count": 15,
     "metadata": {},
     "output_type": "execute_result"
    }
   ],
   "source": [
    "# NOT\n",
    "not True"
   ]
  },
  {
   "cell_type": "code",
   "execution_count": 17,
   "id": "543d1835-53fb-4b93-aaef-aafdd89a1b13",
   "metadata": {},
   "outputs": [
    {
     "data": {
      "text/plain": [
       "True"
      ]
     },
     "execution_count": 17,
     "metadata": {},
     "output_type": "execute_result"
    }
   ],
   "source": [
    "not False"
   ]
  },
  {
   "cell_type": "code",
   "execution_count": 18,
   "id": "1cc31384-6d7c-470c-8d93-b54c2665a826",
   "metadata": {},
   "outputs": [
    {
     "data": {
      "text/plain": [
       "True"
      ]
     },
     "execution_count": 18,
     "metadata": {},
     "output_type": "execute_result"
    }
   ],
   "source": [
    "not(True and False or True and False and True or False or True and False)"
   ]
  },
  {
   "cell_type": "markdown",
   "id": "3c183e19-43e8-43e7-862d-cd033ec3f769",
   "metadata": {},
   "source": [
    "# Membership operators\n",
    "- **in**\n",
    "- **not in**"
   ]
  },
  {
   "cell_type": "code",
   "execution_count": 19,
   "id": "df8048c4-0e9d-435b-8997-54ac8442fcfc",
   "metadata": {},
   "outputs": [
    {
     "data": {
      "text/plain": [
       "True"
      ]
     },
     "execution_count": 19,
     "metadata": {},
     "output_type": "execute_result"
    }
   ],
   "source": [
    "name = \"Ridhima Sharma\"\n",
    "\"a\" in name"
   ]
  },
  {
   "cell_type": "code",
   "execution_count": 23,
   "id": "70f13a09-22a1-499d-a1e4-8149f38d27bb",
   "metadata": {},
   "outputs": [
    {
     "data": {
      "text/plain": [
       "True"
      ]
     },
     "execution_count": 23,
     "metadata": {},
     "output_type": "execute_result"
    }
   ],
   "source": [
    "\"Sharma\" in name"
   ]
  },
  {
   "cell_type": "code",
   "execution_count": 24,
   "id": "dead563c-404d-4a0a-aa53-595ffa32cccf",
   "metadata": {},
   "outputs": [
    {
     "data": {
      "text/plain": [
       "False"
      ]
     },
     "execution_count": 24,
     "metadata": {},
     "output_type": "execute_result"
    }
   ],
   "source": [
    "\"S\" not in name"
   ]
  },
  {
   "cell_type": "code",
   "execution_count": 25,
   "id": "d6b8d130-063c-45fc-81ed-a2d457e16704",
   "metadata": {},
   "outputs": [
    {
     "data": {
      "text/plain": [
       "False"
      ]
     },
     "execution_count": 25,
     "metadata": {},
     "output_type": "execute_result"
    }
   ],
   "source": [
    "\"s\" in name"
   ]
  },
  {
   "cell_type": "code",
   "execution_count": 26,
   "id": "607e3ae6-9173-457a-b204-736990bbf7ce",
   "metadata": {},
   "outputs": [
    {
     "data": {
      "text/plain": [
       "True"
      ]
     },
     "execution_count": 26,
     "metadata": {},
     "output_type": "execute_result"
    }
   ],
   "source": [
    "\"ma\" in name"
   ]
  },
  {
   "cell_type": "code",
   "execution_count": 27,
   "id": "c3d61999-72a2-44f4-906a-ab272cd38064",
   "metadata": {},
   "outputs": [
    {
     "data": {
      "text/plain": [
       "True"
      ]
     },
     "execution_count": 27,
     "metadata": {},
     "output_type": "execute_result"
    }
   ],
   "source": [
    "\"Ridhi\" in name"
   ]
  },
  {
   "cell_type": "markdown",
   "id": "a7929293-233e-4e65-a282-09d30d4fd240",
   "metadata": {},
   "source": [
    "# it's all about the thing we have in list or not"
   ]
  },
  {
   "cell_type": "code",
   "execution_count": 28,
   "id": "6b419af1-4acc-451e-bc9d-aa0124873a5a",
   "metadata": {},
   "outputs": [
    {
     "data": {
      "text/plain": [
       "False"
      ]
     },
     "execution_count": 28,
     "metadata": {},
     "output_type": "execute_result"
    }
   ],
   "source": [
    "L = [23,34,56,91,23,3,3]\n",
    "20 in L"
   ]
  },
  {
   "cell_type": "code",
   "execution_count": 30,
   "id": "cd8e4096-3857-4039-ba52-c24821d02028",
   "metadata": {},
   "outputs": [
    {
     "data": {
      "text/plain": [
       "True"
      ]
     },
     "execution_count": 30,
     "metadata": {},
     "output_type": "execute_result"
    }
   ],
   "source": [
    "T =(212,45,2,3,23)\n",
    "23 in T"
   ]
  },
  {
   "cell_type": "code",
   "execution_count": 32,
   "id": "645d1323-c4d8-4f99-9fb5-0217980c39cd",
   "metadata": {},
   "outputs": [
    {
     "data": {
      "text/plain": [
       "True"
      ]
     },
     "execution_count": 32,
     "metadata": {},
     "output_type": "execute_result"
    }
   ],
   "source": [
    "T ={212,45,2,3,23}\n",
    "23 in T"
   ]
  },
  {
   "cell_type": "code",
   "execution_count": 33,
   "id": "b91a4761-85dc-4b93-b145-230aa075d2cd",
   "metadata": {},
   "outputs": [
    {
     "data": {
      "text/plain": [
       "True"
      ]
     },
     "execution_count": 33,
     "metadata": {},
     "output_type": "execute_result"
    }
   ],
   "source": [
    "T =[212,45,2,3,23]\n",
    "23 in T"
   ]
  },
  {
   "cell_type": "code",
   "execution_count": 36,
   "id": "49e815df-3214-44e3-ae35-21e1c7bcd7fc",
   "metadata": {},
   "outputs": [
    {
     "name": "stdout",
     "output_type": "stream",
     "text": [
      "{1, 2, 4, 5}\n"
     ]
    },
    {
     "data": {
      "text/plain": [
       "True"
      ]
     },
     "execution_count": 36,
     "metadata": {},
     "output_type": "execute_result"
    }
   ],
   "source": [
    "T ={2,1,2,5,4,2,1,4,2,2,True}\n",
    "print(T)\n",
    "1 in T"
   ]
  },
  {
   "cell_type": "code",
   "execution_count": 5,
   "id": "6bca165d-06b0-4d77-a8d2-61f4d0bdc292",
   "metadata": {},
   "outputs": [],
   "source": [
    "D={\n",
    "    \"NAME\":[\"rahul\",\"kajal\",\"rohan\",\"salini\"],\n",
    "    \"age\":[23,32,27,25],\n",
    " \"address\":[\"noida\",\"ranchi\",\"goa\",\"delhi\"]\n",
    "}"
   ]
  },
  {
   "cell_type": "code",
   "execution_count": 6,
   "id": "c4446be9-ebc5-4f01-ad36-d85726c0e363",
   "metadata": {},
   "outputs": [
    {
     "data": {
      "text/plain": [
       "True"
      ]
     },
     "execution_count": 6,
     "metadata": {},
     "output_type": "execute_result"
    }
   ],
   "source": [
    "\"age\" in D"
   ]
  },
  {
   "cell_type": "code",
   "execution_count": 7,
   "id": "c879c56d-4062-48ce-820b-adcdabb2067b",
   "metadata": {},
   "outputs": [
    {
     "data": {
      "text/plain": [
       "True"
      ]
     },
     "execution_count": 7,
     "metadata": {},
     "output_type": "execute_result"
    }
   ],
   "source": [
    "\"rahul\" in D[\"NAME\"] # to find name"
   ]
  },
  {
   "cell_type": "markdown",
   "id": "4ff2280b-68bd-4216-b517-7deb22913666",
   "metadata": {},
   "source": [
    "# identity opreators\n",
    "- **is** \n",
    "- **is not**"
   ]
  },
  {
   "cell_type": "code",
   "execution_count": 42,
   "id": "40eff59f-112a-4a40-bfb7-d6044aaded26",
   "metadata": {},
   "outputs": [
    {
     "name": "stdout",
     "output_type": "stream",
     "text": [
      "True\n",
      "True\n"
     ]
    }
   ],
   "source": [
    "a=10\n",
    "b=10\n",
    "print(a==b)\n",
    "print(a is b)"
   ]
  },
  {
   "cell_type": "code",
   "execution_count": 47,
   "id": "00015d97-da7d-4ebc-a064-02d84a2080e3",
   "metadata": {},
   "outputs": [
    {
     "name": "stdout",
     "output_type": "stream",
     "text": [
      "140709177767112\n",
      "140709177767112\n",
      "True\n",
      "True\n"
     ]
    }
   ],
   "source": [
    "a=10\n",
    "b=10\n",
    "print(id(a))\n",
    "print(id(b))\n",
    "print(a==b)\n",
    "print(a is b)"
   ]
  },
  {
   "cell_type": "code",
   "execution_count": 46,
   "id": "47fa2df3-39d9-46b6-8403-ab1aa239cc5b",
   "metadata": {},
   "outputs": [
    {
     "name": "stdout",
     "output_type": "stream",
     "text": [
      "1695382476496\n",
      "1695382473328\n",
      "True\n",
      "False\n"
     ]
    }
   ],
   "source": [
    "a=1000\n",
    "b=1000\n",
    "print(id(a))\n",
    "print(id(b))\n",
    "print(a==b)\n",
    "print(a is b)"
   ]
  },
  {
   "cell_type": "code",
   "execution_count": 48,
   "id": "0c002627-c6d2-4eae-ae38-20886c0cae6e",
   "metadata": {},
   "outputs": [
    {
     "name": "stdout",
     "output_type": "stream",
     "text": [
      "1695383217072\n",
      "1695383212272\n"
     ]
    }
   ],
   "source": [
    "x=\"Ridhima Sharma\"\n",
    "y=\"Ridhima Sharma\"\n",
    "print(id(x))\n",
    "print(id(y))"
   ]
  },
  {
   "cell_type": "code",
   "execution_count": 9,
   "id": "440ab0c1-455b-4deb-a1b0-eac40d165de5",
   "metadata": {},
   "outputs": [
    {
     "data": {
      "text/plain": [
       "False"
      ]
     },
     "execution_count": 9,
     "metadata": {},
     "output_type": "execute_result"
    }
   ],
   "source": [
    "not(True and False or False and False or False and True and True or True)"
   ]
  },
  {
   "cell_type": "code",
   "execution_count": 9,
   "id": "488fd7a4-9ba1-4950-947e-1b814f16a3f2",
   "metadata": {},
   "outputs": [
    {
     "name": "stdout",
     "output_type": "stream",
     "text": [
      "person name: Ridhima sharma and person age: 19\n"
     ]
    }
   ],
   "source": [
    "name = 'Ridhima sharma'\n",
    "age = 19\n",
    "print(\"person name:\",name, \"and person age:\", age)"
   ]
  },
  {
   "cell_type": "code",
   "execution_count": 42,
   "id": "3278f3f6-b195-4e3f-b603-cc2d6933ee5e",
   "metadata": {},
   "outputs": [
    {
     "name": "stdout",
     "output_type": "stream",
     "text": [
      "person name:Ridhima sharma and person age:19, address:Delhi\n"
     ]
    }
   ],
   "source": [
    "name = 'Ridhima sharma'\n",
    "age=19\n",
    "address=\"Delhi\"\n",
    "print(\"person name:{0} and person age:{1}, address:{2}\".format(name,age ,address))"
   ]
  },
  {
   "cell_type": "code",
   "execution_count": 5,
   "id": "9f16f3ac-0701-4f63-b8d5-3ac0dd49b1b5",
   "metadata": {},
   "outputs": [],
   "source": [
    "name='Ravi shankar'\n",
    "age= 32\n",
    "address=\"Delhi\"\n",
    "\n"
   ]
  },
  {
   "cell_type": "markdown",
   "id": "c65567a5-63fc-4252-a6e5-47237c440e63",
   "metadata": {},
   "source": [
    "# Bitwise operators\n",
    "1. `&` and\n",
    "2. `|` or\n",
    "3. `^` xor\n",
    "4. `~` not\n",
    "5. `>>` Right shift\n",
    "6. `<<` Left shift"
   ]
  },
  {
   "cell_type": "markdown",
   "id": "d51e1b54-19a2-464d-9373-271e18c34336",
   "metadata": {},
   "source": [
    "A  B AND(&)\n",
    "0  0   0\n",
    "0  1   0 \n",
    "1  0   0\n",
    "1  1   1"
   ]
  },
  {
   "cell_type": "code",
   "execution_count": 11,
   "id": "61bb0812-acac-4ec5-a6ca-c6c546d36aa5",
   "metadata": {},
   "outputs": [
    {
     "data": {
      "text/plain": [
       "4"
      ]
     },
     "execution_count": 11,
     "metadata": {},
     "output_type": "execute_result"
    }
   ],
   "source": [
    "21 & 12"
   ]
  },
  {
   "cell_type": "code",
   "execution_count": 15,
   "id": "541fc3fa-6c67-4fe9-a15f-cecfe6a0b0d8",
   "metadata": {},
   "outputs": [
    {
     "data": {
      "text/plain": [
       "2"
      ]
     },
     "execution_count": 15,
     "metadata": {},
     "output_type": "execute_result"
    }
   ],
   "source": [
    "34 & 18"
   ]
  },
  {
   "cell_type": "code",
   "execution_count": null,
   "id": "98a69638-b6a0-4fa0-9dd8-13619b4ce5dc",
   "metadata": {},
   "outputs": [],
   "source": [
    "# 10101\n",
    "# 01100\n",
    " 0b00100"
   ]
  },
  {
   "cell_type": "code",
   "execution_count": 14,
   "id": "08748afa-7aec-4cf9-8819-1483a4b9a2b6",
   "metadata": {},
   "outputs": [
    {
     "data": {
      "text/plain": [
       "'0b10101'"
      ]
     },
     "execution_count": 14,
     "metadata": {},
     "output_type": "execute_result"
    }
   ],
   "source": [
    "bin(21)"
   ]
  },
  {
   "cell_type": "code",
   "execution_count": 23,
   "id": "77f09d3b-04b9-4390-bdf5-b5e4d9122a81",
   "metadata": {},
   "outputs": [
    {
     "data": {
      "text/plain": [
       "'0b101010'"
      ]
     },
     "execution_count": 23,
     "metadata": {},
     "output_type": "execute_result"
    }
   ],
   "source": [
    "bin(42)"
   ]
  },
  {
   "cell_type": "code",
   "execution_count": 17,
   "id": "97be027f-b016-4270-a229-e2c5612e3bbb",
   "metadata": {},
   "outputs": [
    {
     "data": {
      "text/plain": [
       "0"
      ]
     },
     "execution_count": 17,
     "metadata": {},
     "output_type": "execute_result"
    }
   ],
   "source": [
    "21 & 42"
   ]
  },
  {
   "cell_type": "code",
   "execution_count": 25,
   "id": "a565d4bc-8596-49cc-a371-a924a672acb8",
   "metadata": {},
   "outputs": [],
   "source": [
    "# 101010\n",
    "# 10101\n",
    "00000"
   ]
  },
  {
   "cell_type": "markdown",
   "id": "8c0e6f28-868e-4b8a-b5c9-fa3c5433fd92",
   "metadata": {},
   "source": [
    "A  B  OR(|)\n",
    "0  1   0\n",
    "0  1   1\n",
    "1  0   1\n",
    "1  1   1"
   ]
  },
  {
   "cell_type": "markdown",
   "id": "fed564b3-25ec-445f-a63d-53fb462e5907",
   "metadata": {},
   "source": [
    "A  B  C(^)xor\n",
    "0  0  0\n",
    "0  1  1    \n",
    "1  0  1\n",
    "1  1  0  ( if there are double number no matter this is 1 or 0 it will make it 0 )"
   ]
  },
  {
   "cell_type": "code",
   "execution_count": 26,
   "id": "19ec5db1-05bd-4082-a7f0-3b7e0fcc995f",
   "metadata": {},
   "outputs": [
    {
     "data": {
      "text/plain": [
       "-2478350"
      ]
     },
     "execution_count": 26,
     "metadata": {},
     "output_type": "execute_result"
    }
   ],
   "source": [
    "~2478349"
   ]
  },
  {
   "cell_type": "code",
   "execution_count": 28,
   "id": "c30594df-41ff-4686-bd34-c16b1c1e636f",
   "metadata": {},
   "outputs": [
    {
     "data": {
      "text/plain": [
       "5"
      ]
     },
     "execution_count": 28,
     "metadata": {},
     "output_type": "execute_result"
    }
   ],
   "source": [
    "23>>2"
   ]
  },
  {
   "cell_type": "code",
   "execution_count": 29,
   "id": "3c382c9f-4fbe-4b87-9d0f-bc0ac48de52d",
   "metadata": {},
   "outputs": [
    {
     "data": {
      "text/plain": [
       "'0b10111'"
      ]
     },
     "execution_count": 29,
     "metadata": {},
     "output_type": "execute_result"
    }
   ],
   "source": [
    "bin(23)"
   ]
  },
  {
   "cell_type": "code",
   "execution_count": 31,
   "id": "c47ac131-56e8-4d39-84a3-7085642c6202",
   "metadata": {},
   "outputs": [
    {
     "data": {
      "text/plain": [
       "5"
      ]
     },
     "execution_count": 31,
     "metadata": {},
     "output_type": "execute_result"
    }
   ],
   "source": [
    "0b101   # (we will remove right 2)"
   ]
  },
  {
   "cell_type": "code",
   "execution_count": 36,
   "id": "524e3a4c-b946-4954-b215-f951f0dc2f98",
   "metadata": {},
   "outputs": [
    {
     "data": {
      "text/plain": [
       "'0b100110'"
      ]
     },
     "execution_count": 36,
     "metadata": {},
     "output_type": "execute_result"
    }
   ],
   "source": [
    "bin(38)"
   ]
  },
  {
   "cell_type": "code",
   "execution_count": 38,
   "id": "39d2508b-77c6-4d9c-acb8-d89a98363bbd",
   "metadata": {},
   "outputs": [
    {
     "data": {
      "text/plain": [
       "9"
      ]
     },
     "execution_count": 38,
     "metadata": {},
     "output_type": "execute_result"
    }
   ],
   "source": [
    "0b1001"
   ]
  },
  {
   "cell_type": "code",
   "execution_count": 43,
   "id": "e46ebfc2-b49f-4167-9640-c027bede1e89",
   "metadata": {},
   "outputs": [
    {
     "data": {
      "text/plain": [
       "-24"
      ]
     },
     "execution_count": 43,
     "metadata": {},
     "output_type": "execute_result"
    }
   ],
   "source": [
    "~23"
   ]
  },
  {
   "cell_type": "markdown",
   "id": "5057482a-b99d-45c2-b6cd-919ca3420329",
   "metadata": {},
   "source": [
    "# right shift\n",
    "  remove zero"
   ]
  },
  {
   "cell_type": "code",
   "execution_count": 44,
   "id": "22d89cf2-59d0-48f7-a59e-f74d619ad64e",
   "metadata": {},
   "outputs": [
    {
     "data": {
      "text/plain": [
       "7"
      ]
     },
     "execution_count": 44,
     "metadata": {},
     "output_type": "execute_result"
    }
   ],
   "source": [
    "56>>3"
   ]
  },
  {
   "cell_type": "code",
   "execution_count": 45,
   "id": "a36c9970-e3a7-4eee-930e-5d1fc81d442c",
   "metadata": {},
   "outputs": [
    {
     "data": {
      "text/plain": [
       "'0b111000'"
      ]
     },
     "execution_count": 45,
     "metadata": {},
     "output_type": "execute_result"
    }
   ],
   "source": [
    "bin(56)"
   ]
  },
  {
   "cell_type": "code",
   "execution_count": 46,
   "id": "3870905f-4990-4ca0-93da-00ef2363b0c3",
   "metadata": {},
   "outputs": [
    {
     "data": {
      "text/plain": [
       "7"
      ]
     },
     "execution_count": 46,
     "metadata": {},
     "output_type": "execute_result"
    }
   ],
   "source": [
    "0b111"
   ]
  },
  {
   "cell_type": "markdown",
   "id": "740c320f-6998-4252-bcda-cfa7a47d3339",
   "metadata": {},
   "source": [
    "# left shift\n",
    "add zero"
   ]
  },
  {
   "cell_type": "code",
   "execution_count": 53,
   "id": "5e178bee-660e-4c89-81e9-3c71846fe7cb",
   "metadata": {},
   "outputs": [
    {
     "data": {
      "text/plain": [
       "624"
      ]
     },
     "execution_count": 53,
     "metadata": {},
     "output_type": "execute_result"
    }
   ],
   "source": [
    "39<<4"
   ]
  },
  {
   "cell_type": "code",
   "execution_count": 54,
   "id": "e47c1335-86b3-4e1f-a216-6e45c7421cee",
   "metadata": {},
   "outputs": [
    {
     "data": {
      "text/plain": [
       "'0b100111'"
      ]
     },
     "execution_count": 54,
     "metadata": {},
     "output_type": "execute_result"
    }
   ],
   "source": [
    "bin(39)"
   ]
  },
  {
   "cell_type": "code",
   "execution_count": 55,
   "id": "6797982b-204d-466c-9756-b475344df5c2",
   "metadata": {},
   "outputs": [
    {
     "data": {
      "text/plain": [
       "624"
      ]
     },
     "execution_count": 55,
     "metadata": {},
     "output_type": "execute_result"
    }
   ],
   "source": [
    "0b1001110000"
   ]
  },
  {
   "cell_type": "code",
   "execution_count": null,
   "id": "a00fcaae-1038-4e6f-b19f-bf0aa6c6523c",
   "metadata": {},
   "outputs": [],
   "source": []
  },
  {
   "cell_type": "code",
   "execution_count": null,
   "id": "08b72c64-cb06-4a8a-9dd0-a114fa204423",
   "metadata": {},
   "outputs": [],
   "source": []
  },
  {
   "cell_type": "code",
   "execution_count": null,
   "id": "d6333ee9-9d6c-4449-8bc0-c3d9190bbaf0",
   "metadata": {},
   "outputs": [],
   "source": []
  }
 ],
 "metadata": {
  "kernelspec": {
   "display_name": "Python [conda env:base] *",
   "language": "python",
   "name": "conda-base-py"
  },
  "language_info": {
   "codemirror_mode": {
    "name": "ipython",
    "version": 3
   },
   "file_extension": ".py",
   "mimetype": "text/x-python",
   "name": "python",
   "nbconvert_exporter": "python",
   "pygments_lexer": "ipython3",
   "version": "3.13.5"
  }
 },
 "nbformat": 4,
 "nbformat_minor": 5
}
